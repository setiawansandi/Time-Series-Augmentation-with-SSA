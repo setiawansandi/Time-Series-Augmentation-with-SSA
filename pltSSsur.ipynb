{
 "cells": [
  {
   "cell_type": "code",
   "execution_count": null,
   "metadata": {},
   "outputs": [],
   "source": [
    "from pltSSsur import pltSSsur\n",
    "\n",
    "_file_name = 'P02_TS_2'\n",
    "\n",
    "if _file_name != '':\n",
    "    _numComp = input(\"Enter number of component to be read: \")\n",
    "\n",
    "if _file_name != '' and _numComp != '':\n",
    "    surrdata = pltSSsur(_file_name, numComp=int(_numComp), is_csv=True, plot_ok=True)\n",
    "    print(surrdata)"
   ]
  }
 ],
 "metadata": {
  "kernelspec": {
   "display_name": "Python 3.8.13 ('tsgen')",
   "language": "python",
   "name": "python3"
  },
  "language_info": {
   "codemirror_mode": {
    "name": "ipython",
    "version": 3
   },
   "file_extension": ".py",
   "mimetype": "text/x-python",
   "name": "python",
   "nbconvert_exporter": "python",
   "pygments_lexer": "ipython3",
   "version": "3.8.13"
  },
  "orig_nbformat": 4,
  "vscode": {
   "interpreter": {
    "hash": "433eeca8b06d875aeedd47b90bfffd56ad86009625f00af58ff06f7d8cf57d5c"
   }
  }
 },
 "nbformat": 4,
 "nbformat_minor": 2
}
