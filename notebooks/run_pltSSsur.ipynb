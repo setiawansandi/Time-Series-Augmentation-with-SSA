{
 "cells": [
  {
   "cell_type": "markdown",
   "metadata": {},
   "source": [
    "### Run pltSSsur\n",
    "<font size = \"3\">\n",
    "\n",
    "**Input:**\n",
    "| <div style=\"width:150px\">Argument</div> | Description                                                                        |\n",
    "| --------------------------------------- | ---------------------------------------------------------------------------------- |\n",
    "| file_name                         | Name of the file that contains sample data                                               |\n",
    "| numComp                           | Number of components (columns) in a file                                                 |\n",
    "| plot_ok                           | If 'True' return both original sample data and surrogate data used for plotting the graph|\n",
    "| data_dir_path                     | Path to data folder (can be absolute or relative) classes)                               |\n",
    "\n",
    "**Output:**\n",
    "| <div style=\"width:150px\">Value</div> | Description                                                                |\n",
    "| ------------------------------------ | -------------------------------------------------------------------------- |\n",
    "| surr_data                            | Generated surrogate data (contains matrix of 'numComp'-columns)            |\n",
    "| sample_data (optional)               | Original sample data                                                       |\n",
    "\n",
    "</font>"
   ]
  },
  {
   "cell_type": "markdown",
   "metadata": {},
   "source": [
    "### Plot Generated Surrogate Output"
   ]
  },
  {
   "cell_type": "code",
   "execution_count": 1,
   "metadata": {},
   "outputs": [
    {
     "ename": "Exception",
     "evalue": "p02_ts_2.fff does not exist! Check if file name or extension is correct",
     "output_type": "error",
     "traceback": [
      "\u001b[1;31m---------------------------------------------------------------------------\u001b[0m",
      "\u001b[1;31mException\u001b[0m                                 Traceback (most recent call last)",
      "Cell \u001b[1;32mIn [1], line 15\u001b[0m\n\u001b[0;32m     12\u001b[0m     _numComp \u001b[39m=\u001b[39m \u001b[39mint\u001b[39m(\u001b[39minput\u001b[39m(\u001b[39m\"\u001b[39m\u001b[39mEnter number of component (column) to be read: \u001b[39m\u001b[39m\"\u001b[39m))\n\u001b[0;32m     14\u001b[0m \u001b[39mif\u001b[39;00m _file_name \u001b[39m!=\u001b[39m \u001b[39m'\u001b[39m\u001b[39m'\u001b[39m \u001b[39mand\u001b[39;00m _numComp \u001b[39m!=\u001b[39m \u001b[39m'\u001b[39m\u001b[39m'\u001b[39m:\n\u001b[1;32m---> 15\u001b[0m     file_data, output_data \u001b[39m=\u001b[39m pltSSsur(_file_name, numComp\u001b[39m=\u001b[39;49m_numComp, plot_ok\u001b[39m=\u001b[39;49m\u001b[39mTrue\u001b[39;49;00m, data_dir_path\u001b[39m=\u001b[39;49m\u001b[39m'\u001b[39;49m\u001b[39m../data\u001b[39;49m\u001b[39m'\u001b[39;49m)\n\u001b[0;32m     17\u001b[0m     \u001b[39m# generate plot\u001b[39;00m\n\u001b[0;32m     18\u001b[0m     plotly_gen(file_data, output_data, numComp\u001b[39m=\u001b[39m_numComp, file_name\u001b[39m=\u001b[39m_file_name, is_jupyter\u001b[39m=\u001b[39m\u001b[39mTrue\u001b[39;00m)\n",
      "File \u001b[1;32md:\\github\\time-series-dataset-augmentation\\pltSSsur.py:48\u001b[0m, in \u001b[0;36mpltSSsur\u001b[1;34m(file_name, data_dir_path, numComp, plot_ok, R_ok)\u001b[0m\n\u001b[0;32m     46\u001b[0m \u001b[39m# check if file exist in dir\u001b[39;00m\n\u001b[0;32m     47\u001b[0m \u001b[39mif\u001b[39;00m \u001b[39mnot\u001b[39;00m os\u001b[39m.\u001b[39mpath\u001b[39m.\u001b[39misfile(data_file_path):\n\u001b[1;32m---> 48\u001b[0m     \u001b[39mraise\u001b[39;00m \u001b[39mException\u001b[39;00m(\u001b[39mf\u001b[39m\u001b[39m'\u001b[39m\u001b[39m{\u001b[39;00mfile_name\u001b[39m}\u001b[39;00m\u001b[39m does not exist!\u001b[39m\u001b[39m'\u001b[39m\n\u001b[0;32m     49\u001b[0m         \u001b[39m'\u001b[39m\u001b[39m Check if file name or extension is correct\u001b[39m\u001b[39m'\u001b[39m)\n\u001b[0;32m     51\u001b[0m fe \u001b[39m=\u001b[39m os\u001b[39m.\u001b[39mpath\u001b[39m.\u001b[39msplitext(file_name)[\u001b[39m-\u001b[39m\u001b[39m1\u001b[39m]\u001b[39m.\u001b[39mlower() \u001b[39m# get file extension\u001b[39;00m\n\u001b[0;32m     52\u001b[0m \u001b[39mif\u001b[39;00m fe \u001b[39m==\u001b[39m \u001b[39m'\u001b[39m\u001b[39m.csv\u001b[39m\u001b[39m'\u001b[39m \u001b[39mor\u001b[39;00m fe \u001b[39m==\u001b[39m \u001b[39m'\u001b[39m\u001b[39m.txt\u001b[39m\u001b[39m'\u001b[39m:\n\u001b[0;32m     53\u001b[0m     \u001b[39m# read and store the data in a numpy array\u001b[39;00m\n",
      "\u001b[1;31mException\u001b[0m: p02_ts_2.fff does not exist! Check if file name or extension is correct"
     ]
    }
   ],
   "source": [
    "# get the path to parent dir\n",
    "import sys, os\n",
    "parent_dir = os.path.abspath(os.path.join(os.getcwd(), os.pardir))\n",
    "sys.path.insert(0,parent_dir)\n",
    "\n",
    "from pltSSsur import pltSSsur\n",
    "from utils.utils import plotly_gen\n",
    "\n",
    "_file_name = input(\"Enter file name (with extension): \") # e.g P02_TS_2.csv\n",
    "\n",
    "if _file_name != '':\n",
    "    _numComp = int(input(\"Enter number of component (column) to be read: \"))\n",
    "\n",
    "if _file_name != '' and _numComp != '':\n",
    "    file_data, output_data = pltSSsur(_file_name, numComp=_numComp, plot_ok=True, data_dir_path='../data')\n",
    "\n",
    "    # generate plot\n",
    "    plotly_gen(file_data, output_data, numComp=_numComp, file_name=_file_name, is_jupyter=True)"
   ]
  },
  {
   "cell_type": "markdown",
   "metadata": {},
   "source": [
    "### Plot Reconstructed Signals"
   ]
  },
  {
   "cell_type": "code",
   "execution_count": 1,
   "metadata": {},
   "outputs": [],
   "source": [
    "# get the path to parent dir\n",
    "import sys, os\n",
    "parent_dir = os.path.abspath(os.path.join(os.getcwd(), os.pardir))\n",
    "sys.path.insert(0,parent_dir)\n",
    "\n",
    "from pltSSsur import pltSSsur\n",
    "from utils.utils import plotly_reconstructed\n",
    "\n",
    "_file_name = input(\"Enter file name (with extension): \") # e.g P02_TS_2.csv\n",
    "\n",
    "if _file_name != '':\n",
    "    _numComp = int(input(\"Enter number of component (column) to be read: \"))\n",
    "\n",
    "if _file_name != '' and _numComp != '':\n",
    "    file_data, output_data = pltSSsur(_file_name, numComp=_numComp, plot_ok=True, data_dir_path='../data', R_ok=True)\n",
    "\n",
    "    # generate plot\n",
    "    plotly_reconstructed(file_data, output_data, signal_no=5, numComp=_numComp, file_name=_file_name, is_jupyter=True)"
   ]
  }
 ],
 "metadata": {
  "kernelspec": {
   "display_name": "Python 3.9.15 ('tsgen')",
   "language": "python",
   "name": "python3"
  },
  "language_info": {
   "codemirror_mode": {
    "name": "ipython",
    "version": 3
   },
   "file_extension": ".py",
   "mimetype": "text/x-python",
   "name": "python",
   "nbconvert_exporter": "python",
   "pygments_lexer": "ipython3",
   "version": "3.9.15"
  },
  "orig_nbformat": 4,
  "vscode": {
   "interpreter": {
    "hash": "433eeca8b06d875aeedd47b90bfffd56ad86009625f00af58ff06f7d8cf57d5c"
   }
  }
 },
 "nbformat": 4,
 "nbformat_minor": 2
}
