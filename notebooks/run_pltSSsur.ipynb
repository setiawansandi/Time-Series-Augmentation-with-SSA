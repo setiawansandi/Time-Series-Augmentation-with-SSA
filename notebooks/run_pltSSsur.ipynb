{
 "cells": [
  {
   "cell_type": "markdown",
   "metadata": {},
   "source": [
    "### Run pltSSsur\n",
    "<font size = \"3\">\n",
    "\n",
    "**Input:**\n",
    "| <div style=\"width:150px\">Argument</div> | Description                                                                        |\n",
    "| --------------------------------------- | ---------------------------------------------------------------------------------- |\n",
    "| file_name                         | Name of the file that contains sample data                                               |\n",
    "| numComp                           | Number of components (columns) in a file                                                 |\n",
    "| plot_ok                           | If 'True' return both original sample data and surrogate data used for plotting the graph|\n",
    "| data_dir_path                     | Path to data folder (can be absolute or relative) classes)                               |\n",
    "\n",
    "**Output:**\n",
    "| <div style=\"width:150px\">Value</div> | Description                                                                |\n",
    "| ------------------------------------ | -------------------------------------------------------------------------- |\n",
    "| surr_data                            | Generated surrogate data (contains matrix of 'numComp'-columns)            |\n",
    "| sample_data (optional)               | Original sample data                                                       |\n",
    "\n",
    "</font>"
   ]
  },
  {
   "cell_type": "markdown",
   "metadata": {},
   "source": [
    "### Plot Generated Surrogate Output"
   ]
  },
  {
   "cell_type": "code",
   "execution_count": 1,
   "metadata": {},
   "outputs": [
    {
     "data": {
      "application/vnd.plotly.v1+json": {
       "config": {
        "plotlyServerURL": "https://plot.ly"
       },
       "data": [
        {
         "line": {
          "color": "#636efa"
         },
         "name": "Original",
         "showlegend": true,
         "type": "scatter",
         "x": [
          0,
          1,
          2,
          3,
          4,
          5,
          6,
          7,
          8,
          9,
          10,
          11,
          12,
          13,
          14,
          15,
          16,
          17,
          18,
          19,
          20,
          21,
          22,
          23,
          24,
          25,
          26,
          27,
          28,
          29,
          30,
          31,
          32,
          33,
          34,
          35,
          36,
          37,
          38,
          39,
          40,
          41,
          42,
          43,
          44,
          45,
          46,
          47,
          48,
          49,
          50,
          51,
          52,
          53,
          54,
          55,
          56,
          57,
          58,
          59,
          60,
          61,
          62,
          63,
          64,
          65,
          66,
          67,
          68,
          69,
          70,
          71,
          72,
          73,
          74,
          75,
          76,
          77,
          78,
          79,
          80,
          81,
          82,
          83,
          84,
          85,
          86,
          87,
          88,
          89,
          90,
          91,
          92,
          93,
          94,
          95,
          96,
          97,
          98,
          99,
          100,
          101,
          102,
          103,
          104,
          105
         ],
         "xaxis": "x",
         "y": [
          482.8,
          482.3333333,
          481.5,
          479.25,
          478.3333333,
          477.5,
          480.25,
          481.5,
          481.25,
          481.75,
          479,
          482.75,
          485.6666667,
          484,
          479.5,
          479.75,
          480.75,
          475.3333333,
          475.6666667,
          477.25,
          478.5,
          479.6,
          475.6666667,
          479.3333333,
          478.5,
          476.8571429,
          477.3333333,
          475.25,
          479.6666667,
          482,
          475.8,
          477.3333333,
          475.25,
          477.25,
          478.6666667,
          476.75,
          472.5,
          471.6,
          474.75,
          475.6666667,
          473.2,
          467,
          466,
          465.25,
          471,
          471.5,
          476.5,
          472.75,
          470.75,
          466.75,
          463.75,
          469,
          472.25,
          475.4,
          474.25,
          470.25,
          478,
          469.4,
          468.3333333,
          469.25,
          468,
          473,
          474.3333333,
          475.75,
          473.5,
          474.75,
          472,
          468.25,
          471.5,
          469,
          468,
          471.5,
          469.6,
          466.6,
          462.6666667,
          461.3333333,
          463.75,
          466.25,
          468.25,
          470.6,
          467.6666667,
          469,
          464.25,
          468,
          468.75,
          472.3333333,
          468.6666667,
          467.6666667,
          462.3333333,
          463.5,
          467.4,
          465.6666667,
          465.75,
          469.75,
          463.3333333,
          462.6,
          468.25,
          469.25,
          469,
          471.3333333,
          467.75,
          459,
          464.6,
          467.6666667,
          473.25,
          471
         ],
         "yaxis": "y"
        },
        {
         "line": {
          "color": "#b3cde3"
         },
         "name": "Original",
         "showlegend": false,
         "type": "scatter",
         "x": [
          0,
          1,
          2,
          3,
          4,
          5,
          6,
          7,
          8,
          9,
          10,
          11,
          12,
          13,
          14,
          15,
          16,
          17,
          18,
          19,
          20,
          21,
          22,
          23,
          24,
          25,
          26,
          27,
          28,
          29,
          30,
          31,
          32,
          33,
          34,
          35,
          36,
          37,
          38,
          39,
          40,
          41,
          42,
          43,
          44,
          45,
          46,
          47,
          48,
          49,
          50,
          51,
          52,
          53,
          54,
          55,
          56,
          57,
          58,
          59,
          60,
          61,
          62,
          63,
          64,
          65,
          66,
          67,
          68,
          69,
          70,
          71,
          72,
          73,
          74,
          75,
          76,
          77,
          78,
          79,
          80,
          81,
          82,
          83,
          84,
          85,
          86,
          87,
          88,
          89,
          90,
          91,
          92,
          93,
          94,
          95,
          96,
          97,
          98,
          99,
          100,
          101,
          102,
          103,
          104,
          105
         ],
         "xaxis": "x2",
         "y": [
          482.8,
          482.3333333,
          481.5,
          479.25,
          478.3333333,
          477.5,
          480.25,
          481.5,
          481.25,
          481.75,
          479,
          482.75,
          485.6666667,
          484,
          479.5,
          479.75,
          480.75,
          475.3333333,
          475.6666667,
          477.25,
          478.5,
          479.6,
          475.6666667,
          479.3333333,
          478.5,
          476.8571429,
          477.3333333,
          475.25,
          479.6666667,
          482,
          475.8,
          477.3333333,
          475.25,
          477.25,
          478.6666667,
          476.75,
          472.5,
          471.6,
          474.75,
          475.6666667,
          473.2,
          467,
          466,
          465.25,
          471,
          471.5,
          476.5,
          472.75,
          470.75,
          466.75,
          463.75,
          469,
          472.25,
          475.4,
          474.25,
          470.25,
          478,
          469.4,
          468.3333333,
          469.25,
          468,
          473,
          474.3333333,
          475.75,
          473.5,
          474.75,
          472,
          468.25,
          471.5,
          469,
          468,
          471.5,
          469.6,
          466.6,
          462.6666667,
          461.3333333,
          463.75,
          466.25,
          468.25,
          470.6,
          467.6666667,
          469,
          464.25,
          468,
          468.75,
          472.3333333,
          468.6666667,
          467.6666667,
          462.3333333,
          463.5,
          467.4,
          465.6666667,
          465.75,
          469.75,
          463.3333333,
          462.6,
          468.25,
          469.25,
          469,
          471.3333333,
          467.75,
          459,
          464.6,
          467.6666667,
          473.25,
          471
         ],
         "yaxis": "y2"
        },
        {
         "line": {
          "color": "#00cc96"
         },
         "marker": {
          "size": 4,
          "symbol": "circle"
         },
         "mode": "lines+markers",
         "name": "Surrogate",
         "showlegend": true,
         "type": "scatter",
         "x": [
          0,
          1,
          2,
          3,
          4,
          5,
          6,
          7,
          8,
          9,
          10,
          11,
          12,
          13,
          14,
          15,
          16,
          17,
          18,
          19,
          20,
          21,
          22,
          23,
          24,
          25,
          26,
          27,
          28,
          29,
          30,
          31,
          32,
          33,
          34,
          35,
          36,
          37,
          38,
          39,
          40,
          41,
          42,
          43,
          44,
          45,
          46,
          47,
          48,
          49,
          50,
          51,
          52,
          53,
          54,
          55,
          56,
          57,
          58,
          59,
          60,
          61,
          62,
          63,
          64,
          65,
          66,
          67,
          68,
          69,
          70,
          71,
          72,
          73,
          74,
          75,
          76,
          77,
          78,
          79,
          80,
          81,
          82,
          83,
          84,
          85,
          86,
          87,
          88,
          89,
          90,
          91,
          92,
          93,
          94,
          95,
          96,
          97,
          98,
          99,
          100,
          101,
          102,
          103,
          104,
          105
         ],
         "xaxis": "x2",
         "y": [
          478.3166022354119,
          476.2399634627116,
          483.8407847225812,
          484.43455014639903,
          484.75094095780776,
          478.2559475534868,
          478.36369555916394,
          476.87280843283867,
          476.8395708644899,
          477.4485452887958,
          478.4844443536261,
          481.79901764904326,
          478.46264584549954,
          480.3585869207222,
          476.7995904459565,
          479.58901749319324,
          481.9075173954303,
          480.84490542905667,
          480.11000205209723,
          479.2219457103051,
          480.68123619763645,
          481.481218548947,
          474.04533662771695,
          471.5640979830928,
          476.77653305930596,
          480.3043556044835,
          478.75897373585065,
          477.2411761680635,
          478.4753640876896,
          482.39099764863266,
          481.12403415936024,
          477.8853440602548,
          475.5477360354674,
          471.54458020321755,
          468.9535530996505,
          475.43682384736013,
          479.4961396248966,
          474.7138002165595,
          474.75,
          473.8351495858279,
          469.4358095745814,
          469.7172817571706,
          468.67091421884413,
          470.84473156045885,
          471.1038392115035,
          464.78477826705495,
          467.2386277793141,
          469.0798437359621,
          475.2637526912108,
          472.3933505358308,
          472.6577208551807,
          473.8140995381973,
          470.0595918342398,
          470.6068854296073,
          476.4768548985253,
          471.1947143674757,
          474.62973145690745,
          472.93366038608224,
          470.3214957786966,
          463.659199216018,
          469.5768305457315,
          473.944058503379,
          472.16408597181015,
          474.12568105122534,
          472.4693917249206,
          465.05220207123375,
          471.5529085209229,
          471.1481796452111,
          469.3443237751418,
          472.4885052333839,
          468.9085712040461,
          472.63702901525215,
          467.4806371364245,
          466.58469145953785,
          463.68807081383346,
          464.9436602275829,
          468.6892006306122,
          468.99387467409355,
          469.35544642140536,
          466.56403034700264,
          465.0840726696314,
          468.41133465578673,
          468.11932136556595,
          473.2293887088182,
          469.2064661685466,
          472.4209876329105,
          469.6972749750793,
          464.9171868949077,
          465.77434901067,
          465.0021041053548,
          466.31079107955105,
          473.4481828136388,
          469.3133828186575,
          467.48512399759386,
          467.30176090539146,
          461.3279710357304,
          459.4394502901551,
          464.62884463151033,
          466.56265504153464,
          466.99610749079307,
          468.34891667537426,
          469.11603700181576,
          468.40318118470117,
          471.0144854524323,
          469.3600876356767,
          467.9252168799295
         ],
         "yaxis": "y2"
        }
       ],
       "layout": {
        "annotations": [
         {
          "font": {
           "size": 16
          },
          "showarrow": false,
          "text": "Original",
          "x": 0.225,
          "xanchor": "center",
          "xref": "paper",
          "y": 1,
          "yanchor": "bottom",
          "yref": "paper"
         },
         {
          "font": {
           "size": 16
          },
          "showarrow": false,
          "text": "Surrogate",
          "x": 0.775,
          "xanchor": "center",
          "xref": "paper",
          "y": 1,
          "yanchor": "bottom",
          "yref": "paper"
         }
        ],
        "height": 350,
        "template": {
         "data": {
          "bar": [
           {
            "error_x": {
             "color": "#2a3f5f"
            },
            "error_y": {
             "color": "#2a3f5f"
            },
            "marker": {
             "line": {
              "color": "#E5ECF6",
              "width": 0.5
             },
             "pattern": {
              "fillmode": "overlay",
              "size": 10,
              "solidity": 0.2
             }
            },
            "type": "bar"
           }
          ],
          "barpolar": [
           {
            "marker": {
             "line": {
              "color": "#E5ECF6",
              "width": 0.5
             },
             "pattern": {
              "fillmode": "overlay",
              "size": 10,
              "solidity": 0.2
             }
            },
            "type": "barpolar"
           }
          ],
          "carpet": [
           {
            "aaxis": {
             "endlinecolor": "#2a3f5f",
             "gridcolor": "white",
             "linecolor": "white",
             "minorgridcolor": "white",
             "startlinecolor": "#2a3f5f"
            },
            "baxis": {
             "endlinecolor": "#2a3f5f",
             "gridcolor": "white",
             "linecolor": "white",
             "minorgridcolor": "white",
             "startlinecolor": "#2a3f5f"
            },
            "type": "carpet"
           }
          ],
          "choropleth": [
           {
            "colorbar": {
             "outlinewidth": 0,
             "ticks": ""
            },
            "type": "choropleth"
           }
          ],
          "contour": [
           {
            "colorbar": {
             "outlinewidth": 0,
             "ticks": ""
            },
            "colorscale": [
             [
              0,
              "#0d0887"
             ],
             [
              0.1111111111111111,
              "#46039f"
             ],
             [
              0.2222222222222222,
              "#7201a8"
             ],
             [
              0.3333333333333333,
              "#9c179e"
             ],
             [
              0.4444444444444444,
              "#bd3786"
             ],
             [
              0.5555555555555556,
              "#d8576b"
             ],
             [
              0.6666666666666666,
              "#ed7953"
             ],
             [
              0.7777777777777778,
              "#fb9f3a"
             ],
             [
              0.8888888888888888,
              "#fdca26"
             ],
             [
              1,
              "#f0f921"
             ]
            ],
            "type": "contour"
           }
          ],
          "contourcarpet": [
           {
            "colorbar": {
             "outlinewidth": 0,
             "ticks": ""
            },
            "type": "contourcarpet"
           }
          ],
          "heatmap": [
           {
            "colorbar": {
             "outlinewidth": 0,
             "ticks": ""
            },
            "colorscale": [
             [
              0,
              "#0d0887"
             ],
             [
              0.1111111111111111,
              "#46039f"
             ],
             [
              0.2222222222222222,
              "#7201a8"
             ],
             [
              0.3333333333333333,
              "#9c179e"
             ],
             [
              0.4444444444444444,
              "#bd3786"
             ],
             [
              0.5555555555555556,
              "#d8576b"
             ],
             [
              0.6666666666666666,
              "#ed7953"
             ],
             [
              0.7777777777777778,
              "#fb9f3a"
             ],
             [
              0.8888888888888888,
              "#fdca26"
             ],
             [
              1,
              "#f0f921"
             ]
            ],
            "type": "heatmap"
           }
          ],
          "heatmapgl": [
           {
            "colorbar": {
             "outlinewidth": 0,
             "ticks": ""
            },
            "colorscale": [
             [
              0,
              "#0d0887"
             ],
             [
              0.1111111111111111,
              "#46039f"
             ],
             [
              0.2222222222222222,
              "#7201a8"
             ],
             [
              0.3333333333333333,
              "#9c179e"
             ],
             [
              0.4444444444444444,
              "#bd3786"
             ],
             [
              0.5555555555555556,
              "#d8576b"
             ],
             [
              0.6666666666666666,
              "#ed7953"
             ],
             [
              0.7777777777777778,
              "#fb9f3a"
             ],
             [
              0.8888888888888888,
              "#fdca26"
             ],
             [
              1,
              "#f0f921"
             ]
            ],
            "type": "heatmapgl"
           }
          ],
          "histogram": [
           {
            "marker": {
             "pattern": {
              "fillmode": "overlay",
              "size": 10,
              "solidity": 0.2
             }
            },
            "type": "histogram"
           }
          ],
          "histogram2d": [
           {
            "colorbar": {
             "outlinewidth": 0,
             "ticks": ""
            },
            "colorscale": [
             [
              0,
              "#0d0887"
             ],
             [
              0.1111111111111111,
              "#46039f"
             ],
             [
              0.2222222222222222,
              "#7201a8"
             ],
             [
              0.3333333333333333,
              "#9c179e"
             ],
             [
              0.4444444444444444,
              "#bd3786"
             ],
             [
              0.5555555555555556,
              "#d8576b"
             ],
             [
              0.6666666666666666,
              "#ed7953"
             ],
             [
              0.7777777777777778,
              "#fb9f3a"
             ],
             [
              0.8888888888888888,
              "#fdca26"
             ],
             [
              1,
              "#f0f921"
             ]
            ],
            "type": "histogram2d"
           }
          ],
          "histogram2dcontour": [
           {
            "colorbar": {
             "outlinewidth": 0,
             "ticks": ""
            },
            "colorscale": [
             [
              0,
              "#0d0887"
             ],
             [
              0.1111111111111111,
              "#46039f"
             ],
             [
              0.2222222222222222,
              "#7201a8"
             ],
             [
              0.3333333333333333,
              "#9c179e"
             ],
             [
              0.4444444444444444,
              "#bd3786"
             ],
             [
              0.5555555555555556,
              "#d8576b"
             ],
             [
              0.6666666666666666,
              "#ed7953"
             ],
             [
              0.7777777777777778,
              "#fb9f3a"
             ],
             [
              0.8888888888888888,
              "#fdca26"
             ],
             [
              1,
              "#f0f921"
             ]
            ],
            "type": "histogram2dcontour"
           }
          ],
          "mesh3d": [
           {
            "colorbar": {
             "outlinewidth": 0,
             "ticks": ""
            },
            "type": "mesh3d"
           }
          ],
          "parcoords": [
           {
            "line": {
             "colorbar": {
              "outlinewidth": 0,
              "ticks": ""
             }
            },
            "type": "parcoords"
           }
          ],
          "pie": [
           {
            "automargin": true,
            "type": "pie"
           }
          ],
          "scatter": [
           {
            "fillpattern": {
             "fillmode": "overlay",
             "size": 10,
             "solidity": 0.2
            },
            "type": "scatter"
           }
          ],
          "scatter3d": [
           {
            "line": {
             "colorbar": {
              "outlinewidth": 0,
              "ticks": ""
             }
            },
            "marker": {
             "colorbar": {
              "outlinewidth": 0,
              "ticks": ""
             }
            },
            "type": "scatter3d"
           }
          ],
          "scattercarpet": [
           {
            "marker": {
             "colorbar": {
              "outlinewidth": 0,
              "ticks": ""
             }
            },
            "type": "scattercarpet"
           }
          ],
          "scattergeo": [
           {
            "marker": {
             "colorbar": {
              "outlinewidth": 0,
              "ticks": ""
             }
            },
            "type": "scattergeo"
           }
          ],
          "scattergl": [
           {
            "marker": {
             "colorbar": {
              "outlinewidth": 0,
              "ticks": ""
             }
            },
            "type": "scattergl"
           }
          ],
          "scattermapbox": [
           {
            "marker": {
             "colorbar": {
              "outlinewidth": 0,
              "ticks": ""
             }
            },
            "type": "scattermapbox"
           }
          ],
          "scatterpolar": [
           {
            "marker": {
             "colorbar": {
              "outlinewidth": 0,
              "ticks": ""
             }
            },
            "type": "scatterpolar"
           }
          ],
          "scatterpolargl": [
           {
            "marker": {
             "colorbar": {
              "outlinewidth": 0,
              "ticks": ""
             }
            },
            "type": "scatterpolargl"
           }
          ],
          "scatterternary": [
           {
            "marker": {
             "colorbar": {
              "outlinewidth": 0,
              "ticks": ""
             }
            },
            "type": "scatterternary"
           }
          ],
          "surface": [
           {
            "colorbar": {
             "outlinewidth": 0,
             "ticks": ""
            },
            "colorscale": [
             [
              0,
              "#0d0887"
             ],
             [
              0.1111111111111111,
              "#46039f"
             ],
             [
              0.2222222222222222,
              "#7201a8"
             ],
             [
              0.3333333333333333,
              "#9c179e"
             ],
             [
              0.4444444444444444,
              "#bd3786"
             ],
             [
              0.5555555555555556,
              "#d8576b"
             ],
             [
              0.6666666666666666,
              "#ed7953"
             ],
             [
              0.7777777777777778,
              "#fb9f3a"
             ],
             [
              0.8888888888888888,
              "#fdca26"
             ],
             [
              1,
              "#f0f921"
             ]
            ],
            "type": "surface"
           }
          ],
          "table": [
           {
            "cells": {
             "fill": {
              "color": "#EBF0F8"
             },
             "line": {
              "color": "white"
             }
            },
            "header": {
             "fill": {
              "color": "#C8D4E3"
             },
             "line": {
              "color": "white"
             }
            },
            "type": "table"
           }
          ]
         },
         "layout": {
          "annotationdefaults": {
           "arrowcolor": "#2a3f5f",
           "arrowhead": 0,
           "arrowwidth": 1
          },
          "autotypenumbers": "strict",
          "coloraxis": {
           "colorbar": {
            "outlinewidth": 0,
            "ticks": ""
           }
          },
          "colorscale": {
           "diverging": [
            [
             0,
             "#8e0152"
            ],
            [
             0.1,
             "#c51b7d"
            ],
            [
             0.2,
             "#de77ae"
            ],
            [
             0.3,
             "#f1b6da"
            ],
            [
             0.4,
             "#fde0ef"
            ],
            [
             0.5,
             "#f7f7f7"
            ],
            [
             0.6,
             "#e6f5d0"
            ],
            [
             0.7,
             "#b8e186"
            ],
            [
             0.8,
             "#7fbc41"
            ],
            [
             0.9,
             "#4d9221"
            ],
            [
             1,
             "#276419"
            ]
           ],
           "sequential": [
            [
             0,
             "#0d0887"
            ],
            [
             0.1111111111111111,
             "#46039f"
            ],
            [
             0.2222222222222222,
             "#7201a8"
            ],
            [
             0.3333333333333333,
             "#9c179e"
            ],
            [
             0.4444444444444444,
             "#bd3786"
            ],
            [
             0.5555555555555556,
             "#d8576b"
            ],
            [
             0.6666666666666666,
             "#ed7953"
            ],
            [
             0.7777777777777778,
             "#fb9f3a"
            ],
            [
             0.8888888888888888,
             "#fdca26"
            ],
            [
             1,
             "#f0f921"
            ]
           ],
           "sequentialminus": [
            [
             0,
             "#0d0887"
            ],
            [
             0.1111111111111111,
             "#46039f"
            ],
            [
             0.2222222222222222,
             "#7201a8"
            ],
            [
             0.3333333333333333,
             "#9c179e"
            ],
            [
             0.4444444444444444,
             "#bd3786"
            ],
            [
             0.5555555555555556,
             "#d8576b"
            ],
            [
             0.6666666666666666,
             "#ed7953"
            ],
            [
             0.7777777777777778,
             "#fb9f3a"
            ],
            [
             0.8888888888888888,
             "#fdca26"
            ],
            [
             1,
             "#f0f921"
            ]
           ]
          },
          "colorway": [
           "#636efa",
           "#EF553B",
           "#00cc96",
           "#ab63fa",
           "#FFA15A",
           "#19d3f3",
           "#FF6692",
           "#B6E880",
           "#FF97FF",
           "#FECB52"
          ],
          "font": {
           "color": "#2a3f5f"
          },
          "geo": {
           "bgcolor": "white",
           "lakecolor": "white",
           "landcolor": "#E5ECF6",
           "showlakes": true,
           "showland": true,
           "subunitcolor": "white"
          },
          "hoverlabel": {
           "align": "left"
          },
          "hovermode": "closest",
          "mapbox": {
           "style": "light"
          },
          "paper_bgcolor": "white",
          "plot_bgcolor": "#E5ECF6",
          "polar": {
           "angularaxis": {
            "gridcolor": "white",
            "linecolor": "white",
            "ticks": ""
           },
           "bgcolor": "#E5ECF6",
           "radialaxis": {
            "gridcolor": "white",
            "linecolor": "white",
            "ticks": ""
           }
          },
          "scene": {
           "xaxis": {
            "backgroundcolor": "#E5ECF6",
            "gridcolor": "white",
            "gridwidth": 2,
            "linecolor": "white",
            "showbackground": true,
            "ticks": "",
            "zerolinecolor": "white"
           },
           "yaxis": {
            "backgroundcolor": "#E5ECF6",
            "gridcolor": "white",
            "gridwidth": 2,
            "linecolor": "white",
            "showbackground": true,
            "ticks": "",
            "zerolinecolor": "white"
           },
           "zaxis": {
            "backgroundcolor": "#E5ECF6",
            "gridcolor": "white",
            "gridwidth": 2,
            "linecolor": "white",
            "showbackground": true,
            "ticks": "",
            "zerolinecolor": "white"
           }
          },
          "shapedefaults": {
           "line": {
            "color": "#2a3f5f"
           }
          },
          "ternary": {
           "aaxis": {
            "gridcolor": "white",
            "linecolor": "white",
            "ticks": ""
           },
           "baxis": {
            "gridcolor": "white",
            "linecolor": "white",
            "ticks": ""
           },
           "bgcolor": "#E5ECF6",
           "caxis": {
            "gridcolor": "white",
            "linecolor": "white",
            "ticks": ""
           }
          },
          "title": {
           "x": 0.05
          },
          "xaxis": {
           "automargin": true,
           "gridcolor": "white",
           "linecolor": "white",
           "ticks": "",
           "title": {
            "standoff": 15
           },
           "zerolinecolor": "white",
           "zerolinewidth": 2
          },
          "yaxis": {
           "automargin": true,
           "gridcolor": "white",
           "linecolor": "white",
           "ticks": "",
           "title": {
            "standoff": 15
           },
           "zerolinecolor": "white",
           "zerolinewidth": 2
          }
         }
        },
        "title": {
         "text": "C1.csv SSA plot"
        },
        "width": 900,
        "xaxis": {
         "anchor": "y",
         "domain": [
          0,
          0.45
         ]
        },
        "xaxis2": {
         "anchor": "y2",
         "domain": [
          0.55,
          1
         ]
        },
        "yaxis": {
         "anchor": "x",
         "domain": [
          0,
          1
         ]
        },
        "yaxis2": {
         "anchor": "x2",
         "domain": [
          0,
          1
         ]
        }
       }
      }
     },
     "metadata": {},
     "output_type": "display_data"
    }
   ],
   "source": [
    "# get the path to parent dir\n",
    "import sys, os\n",
    "parent_dir = os.path.abspath(os.path.join(os.getcwd(), os.pardir))\n",
    "sys.path.insert(0,parent_dir)\n",
    "\n",
    "from pltSSsur import pltSSsur\n",
    "from utils.plot import Plot\n",
    "\n",
    "_file_name = input(\"Enter file name (with extension): \") # e.g P02_TS_2.csv\n",
    "\n",
    "if _file_name != '':\n",
    "    _num_comp = int(input(\"Enter number of component (column) to be read: \"))\n",
    "\n",
    "if _file_name != '' and _num_comp != '':\n",
    "    file_data, output_data = pltSSsur(_file_name, num_comp=_num_comp, plot_ok=True, data_dir_path='../data/CO2')\n",
    "\n",
    "    # generate plot\n",
    "    Plot.ssa(file_data, output_data, num_comp=_num_comp, title=_file_name, is_jupyter=True)"
   ]
  },
  {
   "attachments": {},
   "cell_type": "markdown",
   "metadata": {},
   "source": [
    "### Plot Reconstructed Signals (Sanity check)"
   ]
  },
  {
   "cell_type": "code",
   "execution_count": 2,
   "metadata": {},
   "outputs": [
    {
     "data": {
      "application/vnd.plotly.v1+json": {
       "config": {
        "plotlyServerURL": "https://plot.ly"
       },
       "data": [
        {
         "line": {
          "color": "#636efa"
         },
         "name": "Original",
         "showlegend": false,
         "type": "scatter",
         "x": [
          0,
          1,
          2,
          3,
          4,
          5,
          6,
          7,
          8,
          9,
          10,
          11,
          12,
          13,
          14,
          15,
          16,
          17,
          18,
          19,
          20,
          21,
          22,
          23,
          24,
          25,
          26,
          27,
          28,
          29,
          30,
          31,
          32,
          33,
          34,
          35,
          36,
          37,
          38,
          39,
          40,
          41,
          42,
          43,
          44,
          45,
          46,
          47,
          48,
          49,
          50,
          51,
          52,
          53,
          54,
          55,
          56,
          57,
          58
         ],
         "xaxis": "x",
         "y": [
          -899,
          -1156,
          -1156,
          -642,
          -385,
          -385,
          -385,
          385,
          642,
          899,
          899,
          385,
          385,
          -128,
          -642,
          -1156,
          -1413,
          -1413,
          -2184,
          -899,
          -642,
          -899,
          128,
          -128,
          642,
          899,
          1156,
          385,
          899,
          1156,
          642,
          1670,
          385,
          899,
          1156,
          642,
          899,
          642,
          899,
          642,
          1156,
          899,
          899,
          385,
          128,
          2184,
          -1156,
          -385,
          -1927,
          -1156,
          -899,
          -1156,
          -1413,
          -1413,
          -642,
          -1670,
          -1670,
          -1413,
          -1927
         ],
         "yaxis": "y"
        },
        {
         "line": {
          "color": "#636efa"
         },
         "name": "Original 2",
         "showlegend": false,
         "type": "scatter",
         "x": [
          0,
          1,
          2,
          3,
          4,
          5,
          6,
          7,
          8,
          9,
          10,
          11,
          12,
          13,
          14,
          15,
          16,
          17,
          18,
          19,
          20,
          21,
          22,
          23,
          24,
          25,
          26,
          27,
          28,
          29,
          30,
          31,
          32,
          33,
          34,
          35,
          36,
          37,
          38,
          39,
          40,
          41,
          42,
          43,
          44,
          45,
          46,
          47,
          48,
          49,
          50,
          51,
          52,
          53,
          54,
          55,
          56,
          57,
          58
         ],
         "xaxis": "x3",
         "y": [
          -15548,
          -15805,
          -16062,
          -16319,
          -16833,
          -15034,
          -15034,
          -17861,
          -20174,
          -20688,
          -20688,
          -19917,
          -18375,
          -17347,
          -17090,
          -16576,
          -15034,
          -9637,
          -10408,
          -11436,
          -12721,
          -13235,
          -14520,
          -15548,
          -17347,
          -18632,
          -19146,
          -18632,
          -17347,
          -16576,
          -15034,
          -14777,
          -14777,
          -15291,
          -15548,
          -16062,
          -16576,
          -16062,
          -15291,
          -14263,
          -13749,
          -14006,
          -14263,
          -15291,
          -15291,
          -21973,
          -15805,
          -15548,
          -16319,
          -15805,
          -16062,
          -15291,
          -15548,
          -15548,
          -15291,
          -15805,
          -15548,
          -15548,
          -15805
         ],
         "yaxis": "y3"
        },
        {
         "line": {
          "color": "#636efa"
         },
         "name": "Original 3",
         "showlegend": false,
         "type": "scatter",
         "x": [
          0,
          1,
          2,
          3,
          4,
          5,
          6,
          7,
          8,
          9,
          10,
          11,
          12,
          13,
          14,
          15,
          16,
          17,
          18,
          19,
          20,
          21,
          22,
          23,
          24,
          25,
          26,
          27,
          28,
          29,
          30,
          31,
          32,
          33,
          34,
          35,
          36,
          37,
          38,
          39,
          40,
          41,
          42,
          43,
          44,
          45,
          46,
          47,
          48,
          49,
          50,
          51,
          52,
          53,
          54,
          55,
          56,
          57,
          58
         ],
         "xaxis": "x5",
         "y": [
          1156,
          2441,
          2441,
          3212,
          1670,
          1156,
          1156,
          128,
          -899,
          -642,
          -385,
          -899,
          -642,
          -1670,
          -2955,
          -3726,
          -4497,
          -3726,
          -4497,
          -3212,
          -3983,
          -3469,
          -2441,
          -2184,
          -1927,
          -2184,
          -1670,
          -642,
          -385,
          -642,
          -2441,
          -642,
          -2698,
          -2184,
          -2184,
          -2441,
          -1413,
          -899,
          -385,
          -1413,
          -642,
          -899,
          -899,
          -1156,
          -1413,
          899,
          -642,
          -1156,
          -642,
          -385,
          -128,
          -899,
          128,
          128,
          -642,
          642,
          642,
          128,
          128
         ],
         "yaxis": "y5"
        },
        {
         "line": {
          "color": "#3366cc"
         },
         "name": "Reconstructed",
         "showlegend": false,
         "type": "scatter",
         "x": [
          0,
          1,
          2,
          3,
          4,
          5,
          6,
          7,
          8,
          9,
          10,
          11,
          12,
          13,
          14,
          15,
          16,
          17,
          18,
          19,
          20,
          21,
          22,
          23,
          24,
          25,
          26,
          27,
          28,
          29,
          30,
          31,
          32,
          33,
          34,
          35,
          36,
          37,
          38,
          39,
          40,
          41,
          42,
          43,
          44,
          45,
          46,
          47,
          48,
          49,
          50,
          51,
          52,
          53,
          54,
          55,
          56,
          57,
          58
         ],
         "xaxis": "x2",
         "y": [
          32.29214641684958,
          45.06397849565593,
          54.9082281232603,
          60.42314549954432,
          60.056570364480585,
          52.37052182455442,
          37.02124155097462,
          13.989749165463355,
          -16.01730378913269,
          -51.30204721360123,
          -89.59570675829241,
          -128.35428371785093,
          -164.5805352522927,
          -195.32492228673743,
          -217.8795378224022,
          -229.81355923607822,
          -229.58569905048716,
          -229.73426378607002,
          -212.78265006339745,
          -177.34430898283773,
          -123.84200980847109,
          -53.939299467882286,
          29.599187058934,
          122.79333338690654,
          221.53033458077346,
          321.32464413687194,
          417.98686887449793,
          507.80702542181547,
          587.9899476363261,
          656.7788359115636,
          712.8184772198649,
          755.7899642340719,
          785.2887853666564,
          801.8620053549755,
          805.8028326549374,
          797.4032222994556,
          776.8757070611131,
          744.236565405921,
          699.4887758756715,
          642.3278970283943,
          572.8355491607979,
          491.04999283555014,
          397.60373609056296,
          325.29083395078567,
          245.48291636233282,
          160.93440833463194,
          74.33431199102742,
          -10.27767633979197,
          -89.68604373338718,
          -160.31467517697442,
          -219.60403084708477,
          -265.6127167549987,
          -296.1411161841881,
          -310.9126126833821,
          -309.9091212468512,
          -294.6083576648009,
          -266.695909454595,
          -227.52016888011266,
          -180.8354590502005
         ],
         "yaxis": "y2"
        },
        {
         "line": {
          "color": "#dc3912"
         },
         "name": "Reconstructed",
         "showlegend": false,
         "type": "scatter",
         "x": [
          0,
          1,
          2,
          3,
          4,
          5,
          6,
          7,
          8,
          9,
          10,
          11,
          12,
          13,
          14,
          15,
          16,
          17,
          18,
          19,
          20,
          21,
          22,
          23,
          24,
          25,
          26,
          27,
          28,
          29,
          30,
          31,
          32,
          33,
          34,
          35,
          36,
          37,
          38,
          39,
          40,
          41,
          42,
          43,
          44,
          45,
          46,
          47,
          48,
          49,
          50,
          51,
          52,
          53,
          54,
          55,
          56,
          57,
          58
         ],
         "xaxis": "x2",
         "y": [
          -216.1343092412996,
          -103.0891255626177,
          47.16824875384388,
          188.30099740702718,
          310.7160559176196,
          410.23573753557844,
          473.32413606738834,
          501.14477977709896,
          481.21122601257713,
          414.37066208466797,
          305.3241822547751,
          168.6619116004066,
          15.866794754863545,
          -141.53955663604614,
          -287.31065329541394,
          -413.5584441522787,
          -504.5085105446959,
          -599.892389285249,
          -642.8434198237878,
          -621.152109965656,
          -548.642770627364,
          -434.57461320497936,
          -288.98411345344846,
          -130.85394913800747,
          27.41138232227039,
          166.46529916576674,
          275.30745944647015,
          348.2538654403827,
          391.8845158606058,
          397.61612358995524,
          380.5602426095209,
          351.08911339137217,
          315.9599787771062,
          291.87913619356914,
          277.95345699287367,
          275.16199111328615,
          289.9425291411328,
          312.1227889821271,
          335.29837511673145,
          356.52298015397275,
          368.75597042992723,
          363.1074883229618,
          338.64690001231884,
          267.262069885277,
          168.0917520927892,
          47.229526218649326,
          -105.25389689308906,
          -267.3763220427171,
          -434.90560036863025,
          -595.1703054933209,
          -735.4654913765642,
          -854.5061220422518,
          -946.2151147246988,
          -1000.9891117566343,
          -1017.6505423374589,
          -1009.2067270583216,
          -964.1038217228503,
          -886.4066971120309,
          -808.7637922013022
         ],
         "yaxis": "y2"
        },
        {
         "line": {
          "color": "#ff9900"
         },
         "name": "Reconstructed",
         "showlegend": false,
         "type": "scatter",
         "x": [
          0,
          1,
          2,
          3,
          4,
          5,
          6,
          7,
          8,
          9,
          10,
          11,
          12,
          13,
          14,
          15,
          16,
          17,
          18,
          19,
          20,
          21,
          22,
          23,
          24,
          25,
          26,
          27,
          28,
          29,
          30,
          31,
          32,
          33,
          34,
          35,
          36,
          37,
          38,
          39,
          40,
          41,
          42,
          43,
          44,
          45,
          46,
          47,
          48,
          49,
          50,
          51,
          52,
          53,
          54,
          55,
          56,
          57,
          58
         ],
         "xaxis": "x2",
         "y": [
          -1048.7098327817346,
          -1074.4153023690533,
          -1065.7698029680337,
          -905.786854303241,
          -683.5729027929318,
          -425.09194121257934,
          -136.8265692360511,
          131.69133553853703,
          360.04104160000554,
          498.64725108800974,
          547.3374367497569,
          487.2766629920552,
          354.17593752224656,
          174.0451217165481,
          -31.68335062749341,
          -210.70871534416204,
          -357.16237808464825,
          -404.80288559466305,
          -383.7693441088501,
          -288.30545195831553,
          -158.28311235017895,
          -15.397585101030185,
          130.23605638008632,
          237.50734346062342,
          311.35070518925954,
          331.45970142655466,
          308.8438091284579,
          243.8584700206514,
          169.38188767960781,
          108.96167770977206,
          36.36487923306156,
          -15.371947918487958,
          -85.21679310376972,
          -123.14438019883536,
          -143.32591759626655,
          -142.59875647234188,
          -123.87169344573107,
          -87.72504985224879,
          -13.560762670348657,
          55.83839060869431,
          132.5501060488968,
          177.2936933630665,
          193.5260406756579,
          193.23140460621067,
          170.98735012097262,
          127.4555436001924,
          36.76970281514438,
          -40.44645314937896,
          -119.58399709700282,
          -144.91287959609434,
          -147.3007497286758,
          -123.76002287092592,
          -67.79750907939885,
          0.9407987967178583,
          89.83697676434274,
          128.71056731235495,
          156.68963323158908,
          130.4230626310465,
          68.68018344068943
         ],
         "yaxis": "y2"
        },
        {
         "line": {
          "color": "#109618"
         },
         "name": "Reconstructed",
         "showlegend": false,
         "type": "scatter",
         "x": [
          0,
          1,
          2,
          3,
          4,
          5,
          6,
          7,
          8,
          9,
          10,
          11,
          12,
          13,
          14,
          15,
          16,
          17,
          18,
          19,
          20,
          21,
          22,
          23,
          24,
          25,
          26,
          27,
          28,
          29,
          30,
          31,
          32,
          33,
          34,
          35,
          36,
          37,
          38,
          39,
          40,
          41,
          42,
          43,
          44,
          45,
          46,
          47,
          48,
          49,
          50,
          51,
          52,
          53,
          54,
          55,
          56,
          57,
          58
         ],
         "xaxis": "x2",
         "y": [
          487.9048483041384,
          225.04464385915944,
          85.34348658577112,
          -51.91290682173084,
          -216.39317930141695,
          -227.98785523468547,
          -246.6382294085855,
          -136.1866027285529,
          -20.82054730646032,
          77.74681613354933,
          169.8505671046992,
          185.23257731267108,
          184.19023231976027,
          90.56999834544985,
          12.119907879281532,
          -99.59177497346857,
          -170.30389465732463,
          -159.20690107777165,
          -161.62066670814892,
          -54.84123520054297,
          11.155532110534871,
          74.99761701755949,
          130.20344055279824,
          111.69739364479858,
          106.59167990169024,
          51.34790238714857,
          11.961377619658842,
          -48.45575310252781,
          -49.397220068040525,
          -58.3438037336185,
          -44.68366560979159,
          32.60864855781935,
          23.228259062215862,
          76.89071104661593,
          51.47806914123748,
          6.788323106604624,
          -15.118287801782502,
          -60.52784770230145,
          -64.30378797006728,
          -60.619789485572035,
          20.71239552129792,
          50.626133618445955,
          131.68705845222655,
          121.84973972559918,
          60.298521248443315,
          54.24207702487757,
          -83.90976764498934,
          -116.01240386342621,
          -161.89145482663844,
          -143.54143960998107,
          -53.36321389668383,
          16.67667754386269,
          122.73910406039454,
          122.55601042759105,
          183.529315585084,
          1.4607171009272042,
          -137.06310322457037,
          -293.0730903317494,
          -797.9865865775806
         ],
         "yaxis": "y2"
        },
        {
         "line": {
          "color": "#990099"
         },
         "name": "Reconstructed",
         "showlegend": false,
         "type": "scatter",
         "x": [
          0,
          1,
          2,
          3,
          4,
          5,
          6,
          7,
          8,
          9,
          10,
          11,
          12,
          13,
          14,
          15,
          16,
          17,
          18,
          19,
          20,
          21,
          22,
          23,
          24,
          25,
          26,
          27,
          28,
          29,
          30,
          31,
          32,
          33,
          34,
          35,
          36,
          37,
          38,
          39,
          40,
          41,
          42,
          43,
          44,
          45,
          46,
          47,
          48,
          49,
          50,
          51,
          52,
          53,
          54,
          55,
          56,
          57,
          58
         ],
         "xaxis": "x2",
         "y": [
          33.378036288439716,
          -0.522468420004341,
          -30.804352658613446,
          69.30446430078544,
          -88.09497701472787,
          75.37312271135602,
          -54.61254144635691,
          2.1824051921831753,
          40.96744090527382,
          -69.6258618435648,
          85.60591829817484,
          -77.43577513813274,
          68.16702579175211,
          -36.3003434612643,
          1.171189892407569,
          40.30800644512214,
          -88.08180647486813,
          117.95482387476451,
          -128.3765526814784,
          92.00783753100266,
          -30.003681741181595,
          -35.80681215368761,
          99.21590542176494,
          -130.29381606363287,
          142.18456549880892,
          -126.77169297972407,
          93.22418615210805,
          -44.2345541993365,
          -28.42292640802983,
          103.19277586685985,
          -175.5943575414417,
          212.17952148734716,
          -200.24019497866027,
          148.25431990267523,
          -57.76623949143975,
          -32.216566979096655,
          112.45079014240392,
          -173.9168338672429,
          207.55024547789898,
          -223.81328888985936,
          194.96330867525617,
          -130.3360996443951,
          33.273829758077525,
          77.67294468095479,
          -164.13173943715051,
          230.9211600764261,
          -237.6125589536325,
          199.91315515221783,
          -140.96160612097088,
          46.739609128273585,
          35.78867176626051,
          -129.8432922462033,
          206.5553445580769,
          -251.30218041562435,
          271.2047442467258,
          -207.08303229235963,
          116.81787207535525,
          10.446732084528048,
          -116.02422536776291
         ],
         "yaxis": "y2"
        },
        {
         "line": {
          "color": "#3366cc"
         },
         "name": "Reconstructed 2",
         "showlegend": false,
         "type": "scatter",
         "x": [
          0,
          1,
          2,
          3,
          4,
          5,
          6,
          7,
          8,
          9,
          10,
          11,
          12,
          13,
          14,
          15,
          16,
          17,
          18,
          19,
          20,
          21,
          22,
          23,
          24,
          25,
          26,
          27,
          28,
          29,
          30,
          31,
          32,
          33,
          34,
          35,
          36,
          37,
          38,
          39,
          40,
          41,
          42,
          43,
          44,
          45,
          46,
          47,
          48,
          49,
          50,
          51,
          52,
          53,
          54,
          55,
          56,
          57,
          58
         ],
         "xaxis": "x4",
         "y": [
          342.1057161538382,
          468.51379029448,
          465.5956376209919,
          312.1056108345616,
          11.764558904190965,
          -405.0957541143612,
          -883.9892753807475,
          -1351.5529805997783,
          -1727.6967806984178,
          -1941.1143096586654,
          -1942.650511163382,
          -1714.3311166120384,
          -1273.823706888022,
          -672.940250627367,
          10.181493506290781,
          683.1759462515394,
          1254.0713413535495,
          1737.1679494551151,
          1993.5752799112124,
          1988.9180755656778,
          1732.4520884291094,
          1273.8635173252394,
          692.7035059190221,
          82.98150295013556,
          -464.70188256115034,
          -879.4209259224933,
          -1120.6690302381376,
          -1181.636594491657,
          -1086.046873502181,
          -877.2254622227376,
          -606.623274591398,
          -323.5374539128176,
          -66.03964989119311,
          143.7473933962973,
          299.5738584490896,
          406.3355652905183,
          472.9206851922414,
          505.6894313098578,
          505.97404229003666,
          470.98378400373036,
          397.037393425019,
          283.7472715824266,
          137.60623578708427,
          -18.673653681999316,
          -180.8307676571176,
          -326.73663247790716,
          -433.46621598512013,
          -483.95398638588205,
          -469.41772244197927,
          -391.04965006065913,
          -260.8681867751891,
          -99.859397158906,
          65.56049614716217,
          208.74019121895589,
          307.72188939700646,
          349.56727656076487,
          332.7401790366511,
          266.3874306015809,
          167.62619400785601
         ],
         "yaxis": "y4"
        },
        {
         "line": {
          "color": "#dc3912"
         },
         "name": "Reconstructed 2",
         "showlegend": false,
         "type": "scatter",
         "x": [
          0,
          1,
          2,
          3,
          4,
          5,
          6,
          7,
          8,
          9,
          10,
          11,
          12,
          13,
          14,
          15,
          16,
          17,
          18,
          19,
          20,
          21,
          22,
          23,
          24,
          25,
          26,
          27,
          28,
          29,
          30,
          31,
          32,
          33,
          34,
          35,
          36,
          37,
          38,
          39,
          40,
          41,
          42,
          43,
          44,
          45,
          46,
          47,
          48,
          49,
          50,
          51,
          52,
          53,
          54,
          55,
          56,
          57,
          58
         ],
         "xaxis": "x4",
         "y": [
          1471.7076038653636,
          1889.3065841846028,
          2107.3538837261767,
          2064.817713948399,
          1738.9807784989123,
          1169.7246942545796,
          401.28916158519127,
          -450.15165222364294,
          -1237.8382966522001,
          -1833.5862519144277,
          -2149.9439222280666,
          -2137.8212593716007,
          -1799.296166458728,
          -1195.0140353855572,
          -418.7905495296941,
          406.5763418120201,
          1150.3380812663522,
          1714.1992555364309,
          1980.26653782614,
          1909.1887135621384,
          1523.8128687254243,
          909.1494089385322,
          182.19720956892738,
          -507.59846841072056,
          -1038.5214915071476,
          -1333.8039242521984,
          -1366.0058394088273,
          -1160.6680099391112,
          -789.0547062388823,
          -383.7407136535074,
          -8.032234154098632,
          263.5698534627312,
          394.93516444243545,
          397.6232525786925,
          318.6212176723912,
          234.64114641533797,
          183.40874891593785,
          185.8039310084506,
          232.24634387595245,
          291.69380597605067,
          321.37143920718677,
          288.1286811824621,
          176.90177080582762,
          19.517279974115286,
          -179.1817106096685,
          -385.3004597634467,
          -517.4106757663747,
          -575.9349546630581,
          -539.9956765961955,
          -405.87395152168534,
          -197.44038957089177,
          49.058680732393356,
          282.0778029981262,
          457.724620005638,
          537.4102281789687,
          504.67997749381095,
          379.6220425046012,
          195.6598155047058,
          -4.5168673102846455
         ],
         "yaxis": "y4"
        },
        {
         "line": {
          "color": "#ff9900"
         },
         "name": "Reconstructed 2",
         "showlegend": false,
         "type": "scatter",
         "x": [
          0,
          1,
          2,
          3,
          4,
          5,
          6,
          7,
          8,
          9,
          10,
          11,
          12,
          13,
          14,
          15,
          16,
          17,
          18,
          19,
          20,
          21,
          22,
          23,
          24,
          25,
          26,
          27,
          28,
          29,
          30,
          31,
          32,
          33,
          34,
          35,
          36,
          37,
          38,
          39,
          40,
          41,
          42,
          43,
          44,
          45,
          46,
          47,
          48,
          49,
          50,
          51,
          52,
          53,
          54,
          55,
          56,
          57,
          58
         ],
         "xaxis": "x4",
         "y": [
          -948.6199093919496,
          -1426.4917122030342,
          -1542.5338587507656,
          -1255.5659854568028,
          -687.5372482641084,
          -92.94676251309555,
          264.81659742562556,
          320.5241900260267,
          211.40551922689357,
          69.460592510869,
          -55.69219997627471,
          -163.75955813015355,
          -265.5222700525244,
          -331.3475953360886,
          -308.71756958526794,
          -146.55389224669392,
          131.06165662478173,
          402.6218316686873,
          525.5005367859462,
          505.65269047607023,
          407.8465642072473,
          286.555528656771,
          136.69114620018678,
          -77.04267554316652,
          -331.18851792208363,
          -499.9157475262702,
          -478.4357608664086,
          -247.17051042819475,
          98.60000295497703,
          478.8873145359646,
          675.0363410480215,
          589.5594142911352,
          288.51960198229995,
          -103.05198775818427,
          -441.7649467265587,
          -673.3280295374261,
          -695.0156646187795,
          -474.36576474248545,
          -85.16371170238678,
          334.8937524396816,
          624.6445645202612,
          675.6007208181819,
          482.8966630502004,
          150.52837468630068,
          -209.85515375958474,
          -475.72624193124733,
          -476.088450670795,
          -298.0789236379488,
          -35.47035418799341,
          233.79391715291115,
          412.9839122295406,
          450.41884057329906,
          294.3298758268463,
          -17.157941811398853,
          -383.40943920388264,
          -699.1997374627965,
          -825.719389275925,
          -735.5760752188871,
          -469.9828738213524
         ],
         "yaxis": "y4"
        },
        {
         "line": {
          "color": "#109618"
         },
         "name": "Reconstructed 2",
         "showlegend": false,
         "type": "scatter",
         "x": [
          0,
          1,
          2,
          3,
          4,
          5,
          6,
          7,
          8,
          9,
          10,
          11,
          12,
          13,
          14,
          15,
          16,
          17,
          18,
          19,
          20,
          21,
          22,
          23,
          24,
          25,
          26,
          27,
          28,
          29,
          30,
          31,
          32,
          33,
          34,
          35,
          36,
          37,
          38,
          39,
          40,
          41,
          42,
          43,
          44,
          45,
          46,
          47,
          48,
          49,
          50,
          51,
          52,
          53,
          54,
          55,
          56,
          57,
          58
         ],
         "xaxis": "x4",
         "y": [
          367.234533047297,
          -184.16399405727347,
          -634.7765373026266,
          -858.2983561364169,
          -833.415627818898,
          -641.9031650304277,
          -421.10358890542767,
          -248.87350168518412,
          -142.98043931924238,
          -93.94964950133773,
          -90.94311853713575,
          -121.3007733365199,
          -171.20492404997952,
          -213.3251423517409,
          -201.376439080937,
          -102.64542440971678,
          77.19753426182999,
          226.19368301478937,
          328.4320470908072,
          379.80065414310934,
          391.15683523114467,
          369.1502909974496,
          303.0554049318963,
          200.84472871471354,
          94.15631499137746,
          27.647188586346147,
          33.86844667748891,
          114.73861562803009,
          237.2020796466329,
          343.82908779390743,
          409.52380904226095,
          394.2703645639257,
          291.6225723275955,
          128.75933640500696,
          -45.37832434036606,
          -159.13411927426384,
          -166.06306827318838,
          -56.98650696278393,
          127.24719872484653,
          316.2833316717463,
          439.58175063199184,
          456.9412088360206,
          368.6226935164741,
          219.13583293358394,
          64.4644720454615,
          -35.92394799232876,
          -28.97870033547493,
          54.61450137870781,
          171.52685216342954,
          275.29983395536334,
          322.5368152450016,
          289.87291327881127,
          178.44853166469838,
          25.240275049077578,
          -118.79888654685753,
          -201.21815644910296,
          -183.07613089348845,
          -67.39203052309483,
          102.08330406093337
         ],
         "yaxis": "y4"
        },
        {
         "line": {
          "color": "#990099"
         },
         "name": "Reconstructed 2",
         "showlegend": false,
         "type": "scatter",
         "x": [
          0,
          1,
          2,
          3,
          4,
          5,
          6,
          7,
          8,
          9,
          10,
          11,
          12,
          13,
          14,
          15,
          16,
          17,
          18,
          19,
          20,
          21,
          22,
          23,
          24,
          25,
          26,
          27,
          28,
          29,
          30,
          31,
          32,
          33,
          34,
          35,
          36,
          37,
          38,
          39,
          40,
          41,
          42,
          43,
          44,
          45,
          46,
          47,
          48,
          49,
          50,
          51,
          52,
          53,
          54,
          55,
          56,
          57,
          58
         ],
         "xaxis": "x4",
         "y": [
          294.10775205441985,
          375.3135156079478,
          -105.81180926700533,
          -503.52397044732623,
          -289.32649355313174,
          336.06785348263367,
          617.5858691303501,
          227.55870283538877,
          -399.20287027917277,
          -610.0498933651076,
          -215.11609822790464,
          382.6110617565498,
          597.6867745414072,
          217.25318236624625,
          -360.0120293438634,
          -536.7831102055497,
          -144.5075457503624,
          376.4301014820332,
          445.2503834063548,
          51.464691568136246,
          -338.7564732453017,
          -330.2603577690119,
          -5.020329199730455,
          275.555395005588,
          245.2578515726664,
          -19.39043109148548,
          -216.526049413167,
          -157.9328241246973,
          46.65380514133042,
          128.07353060182123,
          81.20712921589684,
          -14.003777385461092,
          -73.39263548860552,
          -66.6258301505369,
          -5.126560279120568,
          85.4839831135088,
          98.90956610314755,
          1.982318735327512,
          -124.88032662676629,
          -151.3109406010441,
          -24.98894937223224,
          169.8121489629134,
          240.27541405332948,
          45.89628497299573,
          -241.31624613448213,
          -326.8825448232933,
          -48.4215838265809,
          279.76559760754134,
          327.96609421745393,
          64.33556892791003,
          -248.36329622042098,
          -308.6016127489015,
          -73.06160839595407,
          225.23770357446196,
          267.51184579558293,
          3.05722223867546,
          -250.32708534003217,
          -154.10784784618636,
          259.8172150133955
         ],
         "yaxis": "y4"
        },
        {
         "line": {
          "color": "#3366cc"
         },
         "name": "Reconstructed 3",
         "showlegend": false,
         "type": "scatter",
         "x": [
          0,
          1,
          2,
          3,
          4,
          5,
          6,
          7,
          8,
          9,
          10,
          11,
          12,
          13,
          14,
          15,
          16,
          17,
          18,
          19,
          20,
          21,
          22,
          23,
          24,
          25,
          26,
          27,
          28,
          29,
          30,
          31,
          32,
          33,
          34,
          35,
          36,
          37,
          38,
          39,
          40,
          41,
          42,
          43,
          44,
          45,
          46,
          47,
          48,
          49,
          50,
          51,
          52,
          53,
          54,
          55,
          56,
          57,
          58
         ],
         "xaxis": "x6",
         "y": [
          282.85437740157244,
          313.1705640890123,
          314.5196932267138,
          287.03471419558423,
          229.95376816562725,
          145.6619311853357,
          37.764296461691174,
          -89.32885627863367,
          -230.22882520896465,
          -379.3169320666553,
          -531.3574511782545,
          -680.5580262274665,
          -821.0376005158847,
          -947.4317813912711,
          -1055.0052111273692,
          -1139.1824085931366,
          -1197.1973165105549,
          -1306.372395050697,
          -1376.4546551026729,
          -1408.7180774624294,
          -1406.9334923483116,
          -1375.3023886984706,
          -1319.4124367260974,
          -1245.415285979509,
          -1158.9632566680045,
          -1065.656809001382,
          -970.2380764907803,
          -876.9482315602633,
          -789.5547029438857,
          -709.7982351644368,
          -638.2692059098292,
          -574.1663540183827,
          -516.7794086680417,
          -463.3711025926309,
          -411.87032891039655,
          -360.4153407103992,
          -307.5269314806289,
          -252.44288500820954,
          -195.2800592517493,
          -135.80061629332317,
          -73.56160458645371,
          -9.252248940008307,
          56.68543157019482,
          117.86567367630042,
          177.343152135112,
          233.15339412031088,
          282.7539094463388,
          324.6049280438007,
          357.5226567776415,
          381.2336124404864,
          394.7837687208469,
          398.5293952382078,
          392.9293288369065,
          378.07094209395456,
          354.85662792513585,
          324.46729252198753,
          287.1128877459653,
          242.4201895298339,
          193.43357566739553
         ],
         "yaxis": "y6"
        },
        {
         "line": {
          "color": "#dc3912"
         },
         "name": "Reconstructed 3",
         "showlegend": false,
         "type": "scatter",
         "x": [
          0,
          1,
          2,
          3,
          4,
          5,
          6,
          7,
          8,
          9,
          10,
          11,
          12,
          13,
          14,
          15,
          16,
          17,
          18,
          19,
          20,
          21,
          22,
          23,
          24,
          25,
          26,
          27,
          28,
          29,
          30,
          31,
          32,
          33,
          34,
          35,
          36,
          37,
          38,
          39,
          40,
          41,
          42,
          43,
          44,
          45,
          46,
          47,
          48,
          49,
          50,
          51,
          52,
          53,
          54,
          55,
          56,
          57,
          58
         ],
         "xaxis": "x6",
         "y": [
          2506.6445343532864,
          2659.29552611234,
          2717.0043525607416,
          2662.9015544995345,
          2511.9608124413094,
          2301.9076922641457,
          2027.4368113711193,
          1700.5440986445878,
          1340.5927788576212,
          970.2595241978199,
          591.7300770957407,
          203.4979256297473,
          -176.82949722370168,
          -536.9701017888415,
          -841.8216959230483,
          -1085.3277702309867,
          -1244.385620194811,
          -1258.8840648097002,
          -1200.3320714561064,
          -1072.0113496330705,
          -903.5782605452653,
          -705.524532899127,
          -491.2780563555587,
          -277.46521014121384,
          -83.00540599176469,
          84.69223740117899,
          224.99182245979958,
          324.48508825715084,
          369.114212788862,
          346.4848487377885,
          271.61338865636196,
          182.5805071065704,
          75.00729597583968,
          -15.29019148858919,
          -83.26325157626681,
          -122.94388029610536,
          -129.85186216787417,
          -121.96805454162825,
          -96.8730909226609,
          -71.91928239460215,
          -42.898055506858114,
          -17.500253600926573,
          5.461302657745081,
          59.40300506576141,
          115.77467019554791,
          168.43731664120114,
          197.76627065453937,
          213.65952083759328,
          234.67944642930203,
          244.1437726404235,
          261.31377017479014,
          281.57983849271506,
          318.38096236030907,
          367.2117216071453,
          415.337868784321,
          471.8099567378778,
          496.92880579349594,
          512.3390911791425,
          502.9218866158403
         ],
         "yaxis": "y6"
        },
        {
         "line": {
          "color": "#ff9900"
         },
         "name": "Reconstructed 3",
         "showlegend": false,
         "type": "scatter",
         "x": [
          0,
          1,
          2,
          3,
          4,
          5,
          6,
          7,
          8,
          9,
          10,
          11,
          12,
          13,
          14,
          15,
          16,
          17,
          18,
          19,
          20,
          21,
          22,
          23,
          24,
          25,
          26,
          27,
          28,
          29,
          30,
          31,
          32,
          33,
          34,
          35,
          36,
          37,
          38,
          39,
          40,
          41,
          42,
          43,
          44,
          45,
          46,
          47,
          48,
          49,
          50,
          51,
          52,
          53,
          54,
          55,
          56,
          57,
          58
         ],
         "xaxis": "x6",
         "y": [
          95.75498636468735,
          108.58899700487027,
          32.78385102120965,
          -15.702681533422087,
          -83.44284476720918,
          -105.12025564683934,
          -72.96736499855713,
          -8.184111610983368,
          78.22441275357393,
          162.6697239492685,
          220.75801474932058,
          236.98220518220714,
          208.81200940934548,
          129.28796426845855,
          3.6892982948487587,
          -122.64574294255263,
          -242.14044160271328,
          -349.0010436842341,
          -420.6683272001333,
          -421.8219153561804,
          -361.90432768878736,
          -226.90738821441465,
          -47.98779723591664,
          126.23544356881013,
          278.1172955360099,
          375.7766606868936,
          408.65524945726054,
          368.48869295228883,
          252.59905063240024,
          93.66456270718757,
          -86.20393899299364,
          -237.03451197130212,
          -365.6803979503999,
          -422.1042846151803,
          -412.1395954058861,
          -339.1653539377334,
          -214.5748305078508,
          -69.8601371244005,
          52.82514449515951,
          134.5820173623566,
          187.34677779635672,
          192.9564832743352,
          162.72579049601794,
          88.70235792561576,
          1.0553214942887514,
          -73.22230894098749,
          -138.83155779198913,
          -171.64632002405278,
          -178.36243355592472,
          -138.3867650643009,
          -80.88596529131401,
          -7.914005023127858,
          83.0343710762396,
          158.36253961184326,
          223.9875205208887,
          300.95456817725193,
          378.08301584556426,
          398.02048540267265,
          410.9545241813743
         ],
         "yaxis": "y6"
        },
        {
         "line": {
          "color": "#109618"
         },
         "name": "Reconstructed 3",
         "showlegend": false,
         "type": "scatter",
         "x": [
          0,
          1,
          2,
          3,
          4,
          5,
          6,
          7,
          8,
          9,
          10,
          11,
          12,
          13,
          14,
          15,
          16,
          17,
          18,
          19,
          20,
          21,
          22,
          23,
          24,
          25,
          26,
          27,
          28,
          29,
          30,
          31,
          32,
          33,
          34,
          35,
          36,
          37,
          38,
          39,
          40,
          41,
          42,
          43,
          44,
          45,
          46,
          47,
          48,
          49,
          50,
          51,
          52,
          53,
          54,
          55,
          56,
          57,
          58
         ],
         "xaxis": "x6",
         "y": [
          411.1555479848937,
          522.1477648173409,
          494.3990114789183,
          315.5279159228778,
          41.68448311969518,
          -216.54579597569398,
          -391.017750029121,
          -426.5615661095755,
          -313.7009097966569,
          -88.95320693408723,
          160.43700353608077,
          335.98459666633744,
          383.8316231600208,
          292.3091217866809,
          119.95741175712918,
          -70.62850496643017,
          -205.47609169997077,
          -245.27310146335148,
          -197.43078215216576,
          -95.53841216284528,
          -6.452107084995177,
          38.10283380061023,
          33.616674592954155,
          1.8753301839877636,
          -18.477095111988106,
          2.707617813879544,
          76.93951927598917,
          163.7465502884258,
          210.54387445515675,
          169.07629975477874,
          43.21950723257652,
          -107.82139634475158,
          -243.75822529909954,
          -295.30192686410464,
          -248.7953928503228,
          -120.8462055741832,
          43.24218712140028,
          171.31895142742093,
          228.4801354932132,
          192.31221100105392,
          96.830267465896,
          -14.152057388649357,
          -90.93312809234685,
          -112.78103347126876,
          -82.50054958753073,
          -18.002490754525784,
          33.998178481343516,
          58.72220408428171,
          55.32793130963263,
          13.98687046349556,
          -31.837754703008816,
          -67.80860920566224,
          -64.19894073228828,
          -25.76292187937621,
          29.42263490772035,
          90.63341678125902,
          113.86386369847396,
          111.9002897119898,
          71.49157810109924
         ],
         "yaxis": "y6"
        },
        {
         "line": {
          "color": "#990099"
         },
         "name": "Reconstructed 3",
         "showlegend": false,
         "type": "scatter",
         "x": [
          0,
          1,
          2,
          3,
          4,
          5,
          6,
          7,
          8,
          9,
          10,
          11,
          12,
          13,
          14,
          15,
          16,
          17,
          18,
          19,
          20,
          21,
          22,
          23,
          24,
          25,
          26,
          27,
          28,
          29,
          30,
          31,
          32,
          33,
          34,
          35,
          36,
          37,
          38,
          39,
          40,
          41,
          42,
          43,
          44,
          45,
          46,
          47,
          48,
          49,
          50,
          51,
          52,
          53,
          54,
          55,
          56,
          57,
          58
         ],
         "xaxis": "x6",
         "y": [
          -1048.2278142414052,
          -272.90041700090273,
          133.70280315308815,
          443.5573621048149,
          340.2962520435581,
          138.18385295950097,
          -72.78654979678382,
          -235.06892656291225,
          -254.96773213025617,
          -170.79243004686245,
          10.602485547845829,
          168.742237649257,
          252.0515264691415,
          190.4516474329141,
          -4.511457184235488,
          -158.98412179589167,
          -265.7674186452521,
          -154.66010778887352,
          -22.35971504117031,
          124.35558052210727,
          168.60107902999013,
          158.50098903253775,
          82.60673820766041,
          -72.794204113101,
          -175.23401818804786,
          -197.75352571398597,
          -92.80692125914814,
          57.77676646289596,
          160.09215628772625,
          189.5314614056171,
          95.5376383130866,
          6.957965617624332,
          -139.65658196935772,
          -178.57781786492967,
          -155.45098376733773,
          -59.585893507916325,
          81.11144707125672,
          171.89677791849533,
          165.5265538615569,
          44.741501928179154,
          -55.11170776303418,
          -135.8886148260432,
          -144.88755477449175,
          -83.48425607031272,
          2.4095791492824166,
          111.08038675097235,
          123.6195339893234,
          101.10348512835871,
          4.9832931621192955,
          -55.46841333580227,
          -98.23514805008901,
          -102.66316147257574,
          -17.146220293990122,
          29.056291971654897,
          57.31346802612633,
          87.4619376533866,
          111.98845718962684,
          7.59520489159854,
          -146.52200652236854
         ],
         "yaxis": "y6"
        }
       ],
       "layout": {
        "annotations": [
         {
          "font": {
           "size": 16
          },
          "showarrow": false,
          "text": "Original",
          "x": 0.225,
          "xanchor": "center",
          "xref": "paper",
          "y": 1,
          "yanchor": "bottom",
          "yref": "paper"
         },
         {
          "font": {
           "size": 16
          },
          "showarrow": false,
          "text": "Reconstructed",
          "x": 0.775,
          "xanchor": "center",
          "xref": "paper",
          "y": 1,
          "yanchor": "bottom",
          "yref": "paper"
         }
        ],
        "height": 850,
        "template": {
         "data": {
          "bar": [
           {
            "error_x": {
             "color": "#2a3f5f"
            },
            "error_y": {
             "color": "#2a3f5f"
            },
            "marker": {
             "line": {
              "color": "#E5ECF6",
              "width": 0.5
             },
             "pattern": {
              "fillmode": "overlay",
              "size": 10,
              "solidity": 0.2
             }
            },
            "type": "bar"
           }
          ],
          "barpolar": [
           {
            "marker": {
             "line": {
              "color": "#E5ECF6",
              "width": 0.5
             },
             "pattern": {
              "fillmode": "overlay",
              "size": 10,
              "solidity": 0.2
             }
            },
            "type": "barpolar"
           }
          ],
          "carpet": [
           {
            "aaxis": {
             "endlinecolor": "#2a3f5f",
             "gridcolor": "white",
             "linecolor": "white",
             "minorgridcolor": "white",
             "startlinecolor": "#2a3f5f"
            },
            "baxis": {
             "endlinecolor": "#2a3f5f",
             "gridcolor": "white",
             "linecolor": "white",
             "minorgridcolor": "white",
             "startlinecolor": "#2a3f5f"
            },
            "type": "carpet"
           }
          ],
          "choropleth": [
           {
            "colorbar": {
             "outlinewidth": 0,
             "ticks": ""
            },
            "type": "choropleth"
           }
          ],
          "contour": [
           {
            "colorbar": {
             "outlinewidth": 0,
             "ticks": ""
            },
            "colorscale": [
             [
              0,
              "#0d0887"
             ],
             [
              0.1111111111111111,
              "#46039f"
             ],
             [
              0.2222222222222222,
              "#7201a8"
             ],
             [
              0.3333333333333333,
              "#9c179e"
             ],
             [
              0.4444444444444444,
              "#bd3786"
             ],
             [
              0.5555555555555556,
              "#d8576b"
             ],
             [
              0.6666666666666666,
              "#ed7953"
             ],
             [
              0.7777777777777778,
              "#fb9f3a"
             ],
             [
              0.8888888888888888,
              "#fdca26"
             ],
             [
              1,
              "#f0f921"
             ]
            ],
            "type": "contour"
           }
          ],
          "contourcarpet": [
           {
            "colorbar": {
             "outlinewidth": 0,
             "ticks": ""
            },
            "type": "contourcarpet"
           }
          ],
          "heatmap": [
           {
            "colorbar": {
             "outlinewidth": 0,
             "ticks": ""
            },
            "colorscale": [
             [
              0,
              "#0d0887"
             ],
             [
              0.1111111111111111,
              "#46039f"
             ],
             [
              0.2222222222222222,
              "#7201a8"
             ],
             [
              0.3333333333333333,
              "#9c179e"
             ],
             [
              0.4444444444444444,
              "#bd3786"
             ],
             [
              0.5555555555555556,
              "#d8576b"
             ],
             [
              0.6666666666666666,
              "#ed7953"
             ],
             [
              0.7777777777777778,
              "#fb9f3a"
             ],
             [
              0.8888888888888888,
              "#fdca26"
             ],
             [
              1,
              "#f0f921"
             ]
            ],
            "type": "heatmap"
           }
          ],
          "heatmapgl": [
           {
            "colorbar": {
             "outlinewidth": 0,
             "ticks": ""
            },
            "colorscale": [
             [
              0,
              "#0d0887"
             ],
             [
              0.1111111111111111,
              "#46039f"
             ],
             [
              0.2222222222222222,
              "#7201a8"
             ],
             [
              0.3333333333333333,
              "#9c179e"
             ],
             [
              0.4444444444444444,
              "#bd3786"
             ],
             [
              0.5555555555555556,
              "#d8576b"
             ],
             [
              0.6666666666666666,
              "#ed7953"
             ],
             [
              0.7777777777777778,
              "#fb9f3a"
             ],
             [
              0.8888888888888888,
              "#fdca26"
             ],
             [
              1,
              "#f0f921"
             ]
            ],
            "type": "heatmapgl"
           }
          ],
          "histogram": [
           {
            "marker": {
             "pattern": {
              "fillmode": "overlay",
              "size": 10,
              "solidity": 0.2
             }
            },
            "type": "histogram"
           }
          ],
          "histogram2d": [
           {
            "colorbar": {
             "outlinewidth": 0,
             "ticks": ""
            },
            "colorscale": [
             [
              0,
              "#0d0887"
             ],
             [
              0.1111111111111111,
              "#46039f"
             ],
             [
              0.2222222222222222,
              "#7201a8"
             ],
             [
              0.3333333333333333,
              "#9c179e"
             ],
             [
              0.4444444444444444,
              "#bd3786"
             ],
             [
              0.5555555555555556,
              "#d8576b"
             ],
             [
              0.6666666666666666,
              "#ed7953"
             ],
             [
              0.7777777777777778,
              "#fb9f3a"
             ],
             [
              0.8888888888888888,
              "#fdca26"
             ],
             [
              1,
              "#f0f921"
             ]
            ],
            "type": "histogram2d"
           }
          ],
          "histogram2dcontour": [
           {
            "colorbar": {
             "outlinewidth": 0,
             "ticks": ""
            },
            "colorscale": [
             [
              0,
              "#0d0887"
             ],
             [
              0.1111111111111111,
              "#46039f"
             ],
             [
              0.2222222222222222,
              "#7201a8"
             ],
             [
              0.3333333333333333,
              "#9c179e"
             ],
             [
              0.4444444444444444,
              "#bd3786"
             ],
             [
              0.5555555555555556,
              "#d8576b"
             ],
             [
              0.6666666666666666,
              "#ed7953"
             ],
             [
              0.7777777777777778,
              "#fb9f3a"
             ],
             [
              0.8888888888888888,
              "#fdca26"
             ],
             [
              1,
              "#f0f921"
             ]
            ],
            "type": "histogram2dcontour"
           }
          ],
          "mesh3d": [
           {
            "colorbar": {
             "outlinewidth": 0,
             "ticks": ""
            },
            "type": "mesh3d"
           }
          ],
          "parcoords": [
           {
            "line": {
             "colorbar": {
              "outlinewidth": 0,
              "ticks": ""
             }
            },
            "type": "parcoords"
           }
          ],
          "pie": [
           {
            "automargin": true,
            "type": "pie"
           }
          ],
          "scatter": [
           {
            "fillpattern": {
             "fillmode": "overlay",
             "size": 10,
             "solidity": 0.2
            },
            "type": "scatter"
           }
          ],
          "scatter3d": [
           {
            "line": {
             "colorbar": {
              "outlinewidth": 0,
              "ticks": ""
             }
            },
            "marker": {
             "colorbar": {
              "outlinewidth": 0,
              "ticks": ""
             }
            },
            "type": "scatter3d"
           }
          ],
          "scattercarpet": [
           {
            "marker": {
             "colorbar": {
              "outlinewidth": 0,
              "ticks": ""
             }
            },
            "type": "scattercarpet"
           }
          ],
          "scattergeo": [
           {
            "marker": {
             "colorbar": {
              "outlinewidth": 0,
              "ticks": ""
             }
            },
            "type": "scattergeo"
           }
          ],
          "scattergl": [
           {
            "marker": {
             "colorbar": {
              "outlinewidth": 0,
              "ticks": ""
             }
            },
            "type": "scattergl"
           }
          ],
          "scattermapbox": [
           {
            "marker": {
             "colorbar": {
              "outlinewidth": 0,
              "ticks": ""
             }
            },
            "type": "scattermapbox"
           }
          ],
          "scatterpolar": [
           {
            "marker": {
             "colorbar": {
              "outlinewidth": 0,
              "ticks": ""
             }
            },
            "type": "scatterpolar"
           }
          ],
          "scatterpolargl": [
           {
            "marker": {
             "colorbar": {
              "outlinewidth": 0,
              "ticks": ""
             }
            },
            "type": "scatterpolargl"
           }
          ],
          "scatterternary": [
           {
            "marker": {
             "colorbar": {
              "outlinewidth": 0,
              "ticks": ""
             }
            },
            "type": "scatterternary"
           }
          ],
          "surface": [
           {
            "colorbar": {
             "outlinewidth": 0,
             "ticks": ""
            },
            "colorscale": [
             [
              0,
              "#0d0887"
             ],
             [
              0.1111111111111111,
              "#46039f"
             ],
             [
              0.2222222222222222,
              "#7201a8"
             ],
             [
              0.3333333333333333,
              "#9c179e"
             ],
             [
              0.4444444444444444,
              "#bd3786"
             ],
             [
              0.5555555555555556,
              "#d8576b"
             ],
             [
              0.6666666666666666,
              "#ed7953"
             ],
             [
              0.7777777777777778,
              "#fb9f3a"
             ],
             [
              0.8888888888888888,
              "#fdca26"
             ],
             [
              1,
              "#f0f921"
             ]
            ],
            "type": "surface"
           }
          ],
          "table": [
           {
            "cells": {
             "fill": {
              "color": "#EBF0F8"
             },
             "line": {
              "color": "white"
             }
            },
            "header": {
             "fill": {
              "color": "#C8D4E3"
             },
             "line": {
              "color": "white"
             }
            },
            "type": "table"
           }
          ]
         },
         "layout": {
          "annotationdefaults": {
           "arrowcolor": "#2a3f5f",
           "arrowhead": 0,
           "arrowwidth": 1
          },
          "autotypenumbers": "strict",
          "coloraxis": {
           "colorbar": {
            "outlinewidth": 0,
            "ticks": ""
           }
          },
          "colorscale": {
           "diverging": [
            [
             0,
             "#8e0152"
            ],
            [
             0.1,
             "#c51b7d"
            ],
            [
             0.2,
             "#de77ae"
            ],
            [
             0.3,
             "#f1b6da"
            ],
            [
             0.4,
             "#fde0ef"
            ],
            [
             0.5,
             "#f7f7f7"
            ],
            [
             0.6,
             "#e6f5d0"
            ],
            [
             0.7,
             "#b8e186"
            ],
            [
             0.8,
             "#7fbc41"
            ],
            [
             0.9,
             "#4d9221"
            ],
            [
             1,
             "#276419"
            ]
           ],
           "sequential": [
            [
             0,
             "#0d0887"
            ],
            [
             0.1111111111111111,
             "#46039f"
            ],
            [
             0.2222222222222222,
             "#7201a8"
            ],
            [
             0.3333333333333333,
             "#9c179e"
            ],
            [
             0.4444444444444444,
             "#bd3786"
            ],
            [
             0.5555555555555556,
             "#d8576b"
            ],
            [
             0.6666666666666666,
             "#ed7953"
            ],
            [
             0.7777777777777778,
             "#fb9f3a"
            ],
            [
             0.8888888888888888,
             "#fdca26"
            ],
            [
             1,
             "#f0f921"
            ]
           ],
           "sequentialminus": [
            [
             0,
             "#0d0887"
            ],
            [
             0.1111111111111111,
             "#46039f"
            ],
            [
             0.2222222222222222,
             "#7201a8"
            ],
            [
             0.3333333333333333,
             "#9c179e"
            ],
            [
             0.4444444444444444,
             "#bd3786"
            ],
            [
             0.5555555555555556,
             "#d8576b"
            ],
            [
             0.6666666666666666,
             "#ed7953"
            ],
            [
             0.7777777777777778,
             "#fb9f3a"
            ],
            [
             0.8888888888888888,
             "#fdca26"
            ],
            [
             1,
             "#f0f921"
            ]
           ]
          },
          "colorway": [
           "#636efa",
           "#EF553B",
           "#00cc96",
           "#ab63fa",
           "#FFA15A",
           "#19d3f3",
           "#FF6692",
           "#B6E880",
           "#FF97FF",
           "#FECB52"
          ],
          "font": {
           "color": "#2a3f5f"
          },
          "geo": {
           "bgcolor": "white",
           "lakecolor": "white",
           "landcolor": "#E5ECF6",
           "showlakes": true,
           "showland": true,
           "subunitcolor": "white"
          },
          "hoverlabel": {
           "align": "left"
          },
          "hovermode": "closest",
          "mapbox": {
           "style": "light"
          },
          "paper_bgcolor": "white",
          "plot_bgcolor": "#E5ECF6",
          "polar": {
           "angularaxis": {
            "gridcolor": "white",
            "linecolor": "white",
            "ticks": ""
           },
           "bgcolor": "#E5ECF6",
           "radialaxis": {
            "gridcolor": "white",
            "linecolor": "white",
            "ticks": ""
           }
          },
          "scene": {
           "xaxis": {
            "backgroundcolor": "#E5ECF6",
            "gridcolor": "white",
            "gridwidth": 2,
            "linecolor": "white",
            "showbackground": true,
            "ticks": "",
            "zerolinecolor": "white"
           },
           "yaxis": {
            "backgroundcolor": "#E5ECF6",
            "gridcolor": "white",
            "gridwidth": 2,
            "linecolor": "white",
            "showbackground": true,
            "ticks": "",
            "zerolinecolor": "white"
           },
           "zaxis": {
            "backgroundcolor": "#E5ECF6",
            "gridcolor": "white",
            "gridwidth": 2,
            "linecolor": "white",
            "showbackground": true,
            "ticks": "",
            "zerolinecolor": "white"
           }
          },
          "shapedefaults": {
           "line": {
            "color": "#2a3f5f"
           }
          },
          "ternary": {
           "aaxis": {
            "gridcolor": "white",
            "linecolor": "white",
            "ticks": ""
           },
           "baxis": {
            "gridcolor": "white",
            "linecolor": "white",
            "ticks": ""
           },
           "bgcolor": "#E5ECF6",
           "caxis": {
            "gridcolor": "white",
            "linecolor": "white",
            "ticks": ""
           }
          },
          "title": {
           "x": 0.05
          },
          "xaxis": {
           "automargin": true,
           "gridcolor": "white",
           "linecolor": "white",
           "ticks": "",
           "title": {
            "standoff": 15
           },
           "zerolinecolor": "white",
           "zerolinewidth": 2
          },
          "yaxis": {
           "automargin": true,
           "gridcolor": "white",
           "linecolor": "white",
           "ticks": "",
           "title": {
            "standoff": 15
           },
           "zerolinecolor": "white",
           "zerolinewidth": 2
          }
         }
        },
        "title": {
         "text": "p22_ts_1.csv SSA plot"
        },
        "width": 900,
        "xaxis": {
         "anchor": "y",
         "domain": [
          0,
          0.45
         ]
        },
        "xaxis2": {
         "anchor": "y2",
         "domain": [
          0.55,
          1
         ]
        },
        "xaxis3": {
         "anchor": "y3",
         "domain": [
          0,
          0.45
         ]
        },
        "xaxis4": {
         "anchor": "y4",
         "domain": [
          0.55,
          1
         ]
        },
        "xaxis5": {
         "anchor": "y5",
         "domain": [
          0,
          0.45
         ]
        },
        "xaxis6": {
         "anchor": "y6",
         "domain": [
          0.55,
          1
         ]
        },
        "yaxis": {
         "anchor": "x",
         "domain": [
          0.7333333333333334,
          1
         ]
        },
        "yaxis2": {
         "anchor": "x2",
         "domain": [
          0.7333333333333334,
          1
         ]
        },
        "yaxis3": {
         "anchor": "x3",
         "domain": [
          0.3666666666666667,
          0.6333333333333333
         ]
        },
        "yaxis4": {
         "anchor": "x4",
         "domain": [
          0.3666666666666667,
          0.6333333333333333
         ]
        },
        "yaxis5": {
         "anchor": "x5",
         "domain": [
          0,
          0.26666666666666666
         ]
        },
        "yaxis6": {
         "anchor": "x6",
         "domain": [
          0,
          0.26666666666666666
         ]
        }
       }
      }
     },
     "metadata": {},
     "output_type": "display_data"
    }
   ],
   "source": [
    "# get the path to parent dir\n",
    "import sys, os\n",
    "parent_dir = os.path.abspath(os.path.join(os.getcwd(), os.pardir))\n",
    "sys.path.insert(0,parent_dir)\n",
    "\n",
    "from pltSSsur import pltSSsur\n",
    "from utils.plot import Plot\n",
    "\n",
    "_file_name = input(\"Enter file name (with extension): \") # e.g P02_TS_2.csv\n",
    "\n",
    "if _file_name != '':\n",
    "    _num_comp = int(input(\"Enter number of component (column) to be read: \"))\n",
    "\n",
    "if _file_name != '' and _num_comp != '':\n",
    "    file_data, output_data = pltSSsur(_file_name, num_comp=_num_comp, plot_ok=True, data_dir_path='../data/ARAT', R_ok=True)\n",
    "\n",
    "    # generate plot\n",
    "    Plot.reconstructed(file_data, output_data, signal_no=5, num_comp=_num_comp, title=_file_name, is_jupyter=True)"
   ]
  }
 ],
 "metadata": {
  "kernelspec": {
   "display_name": "Python 3.9.15 ('tsgen')",
   "language": "python",
   "name": "python3"
  },
  "language_info": {
   "codemirror_mode": {
    "name": "ipython",
    "version": 3
   },
   "file_extension": ".py",
   "mimetype": "text/x-python",
   "name": "python",
   "nbconvert_exporter": "python",
   "pygments_lexer": "ipython3",
   "version": "3.9.15 (main, Nov 24 2022, 14:39:17) [MSC v.1916 64 bit (AMD64)]"
  },
  "orig_nbformat": 4,
  "vscode": {
   "interpreter": {
    "hash": "433eeca8b06d875aeedd47b90bfffd56ad86009625f00af58ff06f7d8cf57d5c"
   }
  }
 },
 "nbformat": 4,
 "nbformat_minor": 2
}
