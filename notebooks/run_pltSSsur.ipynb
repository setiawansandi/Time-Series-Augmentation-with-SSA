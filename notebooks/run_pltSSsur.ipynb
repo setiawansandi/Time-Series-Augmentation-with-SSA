{
 "cells": [
  {
   "cell_type": "markdown",
   "metadata": {},
   "source": [
    "### Run pltSSsur\n",
    "<font size = \"3\">\n",
    "\n",
    "**Input:**\n",
    "| <div style=\"width:150px\">Argument</div> | Description                                                                        |\n",
    "| --------------------------------------- | ---------------------------------------------------------------------------------- |\n",
    "| file_name                         | Name of the file that contains sample data                                               |\n",
    "| numComp                           | Number of components (columns) in a file                                                 |\n",
    "| plot_ok                           | If 'True' return both original sample data and surrogate data used for plotting the graph|\n",
    "| data_dir_path                     | Path to data folder (can be absolute or relative) classes)                               |\n",
    "\n",
    "**Output:**\n",
    "| <div style=\"width:150px\">Value</div> | Description                                                                |\n",
    "| ------------------------------------ | -------------------------------------------------------------------------- |\n",
    "| surr_data                            | Generated surrogate data (contains matrix of 'numComp'-columns)            |\n",
    "| sample_data (optional)               | Original sample data                                                       |\n",
    "\n",
    "</font>"
   ]
  },
  {
   "cell_type": "markdown",
   "metadata": {},
   "source": [
    "### Plot Generated Surrogate Output"
   ]
  },
  {
   "cell_type": "code",
   "execution_count": null,
   "metadata": {},
   "outputs": [],
   "source": [
    "# get the path to parent dir\n",
    "import sys, os\n",
    "parent_dir = os.path.abspath(os.path.join(os.getcwd(), os.pardir))\n",
    "sys.path.insert(0,parent_dir)\n",
    "\n",
    "from pltSSsur import pltSSsur\n",
    "from utils.utils import plotly_gen\n",
    "\n",
    "_file_name = input(\"Enter file name (with extension): \") # e.g P02_TS_2.csv\n",
    "\n",
    "if _file_name != '':\n",
    "    _numComp = int(input(\"Enter number of component (column) to be read: \"))\n",
    "\n",
    "if _file_name != '' and _numComp != '':\n",
    "    file_data, output_data = pltSSsur(_file_name, numComp=_numComp, plot_ok=True, data_dir_path='../data')\n",
    "\n",
    "    # generate plot\n",
    "    plotly_gen(file_data, output_data, numComp=_numComp, file_name=_file_name, is_jupyter=True)"
   ]
  },
  {
   "cell_type": "markdown",
   "metadata": {},
   "source": [
    "### Plot Reconstructed Signals"
   ]
  },
  {
   "cell_type": "code",
   "execution_count": 1,
   "metadata": {},
   "outputs": [],
   "source": [
    "# get the path to parent dir\n",
    "import sys, os\n",
    "parent_dir = os.path.abspath(os.path.join(os.getcwd(), os.pardir))\n",
    "sys.path.insert(0,parent_dir)\n",
    "\n",
    "from pltSSsur import pltSSsur\n",
    "from utils.utils import plotly_reconstructed\n",
    "\n",
    "_file_name = input(\"Enter file name (with extension): \") # e.g P02_TS_2.csv\n",
    "\n",
    "if _file_name != '':\n",
    "    _numComp = int(input(\"Enter number of component (column) to be read: \"))\n",
    "\n",
    "if _file_name != '' and _numComp != '':\n",
    "    file_data, output_data = pltSSsur(_file_name, numComp=_numComp, plot_ok=True, data_dir_path='../data', R_ok=True)\n",
    "\n",
    "    # generate plot\n",
    "    plotly_reconstructed(file_data, output_data, signal_no=5, numComp=_numComp, file_name=_file_name, is_jupyter=True)"
   ]
  }
 ],
 "metadata": {
  "kernelspec": {
   "display_name": "Python 3.9.15 ('tsgen')",
   "language": "python",
   "name": "python3"
  },
  "language_info": {
   "codemirror_mode": {
    "name": "ipython",
    "version": 3
   },
   "file_extension": ".py",
   "mimetype": "text/x-python",
   "name": "python",
   "nbconvert_exporter": "python",
   "pygments_lexer": "ipython3",
   "version": "3.9.15"
  },
  "orig_nbformat": 4,
  "vscode": {
   "interpreter": {
    "hash": "433eeca8b06d875aeedd47b90bfffd56ad86009625f00af58ff06f7d8cf57d5c"
   }
  }
 },
 "nbformat": 4,
 "nbformat_minor": 2
}
