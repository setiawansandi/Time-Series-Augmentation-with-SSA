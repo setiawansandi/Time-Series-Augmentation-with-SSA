{
 "cells": [
  {
   "cell_type": "markdown",
   "metadata": {
    "tags": [
     "parameters"
    ]
   },
   "source": [
    "### Run allSurr1D\n",
    "<font size = \"3\">\n",
    "\n",
    "**Input:**\n",
    "| <div style=\"width:150px\">Argument</div> | Description                                                                        |\n",
    "| --------------------------------------- | ---------------------------------------------------------------------------------- |\n",
    "| data_dir                        | Data directory                                                                             |\n",
    "| score_file                      | Score file containing which class the data belong to                                       |\n",
    "| save_as                         | Save output as csv or pickle                                                               |\n",
    "| nSur                            | Proportion of surrogate data to be generated (to balance data distribution between classes)|\n",
    "| fold_no                         | How many times the sample data will be augmented (x-fold)                                  |\n",
    "\n",
    "**Output:**\n",
    "| <div style=\"width:150px\">File</div> | Description                                                                |\n",
    "| ----------------------------------- | -------------------------------------------------------------------------- |\n",
    "| csv                                 | CSVs of synthesized data in respective directory according to Class        |\n",
    "| pickle                              | Pickle file containing all synthesized surrogate data                      |\n",
    "\n",
    "</font>\n",
    "\n",
    "<font size = \"3\">p.s: Generated surrogate files are temporarily stored in wrkdir folder. To save the files, run __\"Save and Zip Surrogate Data\"__ cell below.</font>"
   ]
  },
  {
   "cell_type": "code",
   "execution_count": 1,
   "metadata": {},
   "outputs": [
    {
     "name": "stdout",
     "output_type": "stream",
     "text": [
      "'ARscore' file is not valid\n",
      "'score' file is not valid\n",
      "[INFO] 6 surrogate data generated from P01_TS_1.csv\n",
      "[INFO] 6 surrogate data generated from P01_TS_2.csv\n",
      "[INFO] 6 surrogate data generated from P02_TS_1.csv\n",
      "[INFO] 6 surrogate data generated from P02_TS_2.csv\n",
      "[INFO] 6 surrogate data generated from P02_TS_3.csv\n",
      "[INFO] 6 surrogate data generated from P04_TS_1.csv\n",
      "[INFO] 6 surrogate data generated from P04_TS_2.csv\n",
      "[INFO] 6 surrogate data generated from P04_TS_3.csv\n",
      "[INFO] 6 surrogate data generated from P05_TS_1.csv\n",
      "[INFO] 6 surrogate data generated from P05_TS_2.csv\n",
      "[INFO] 6 surrogate data generated from P05_TS_3.csv\n",
      "[INFO] 5 surrogate data generated from P07_TS_1.csv\n",
      "[INFO] 5 surrogate data generated from P07_TS_2.csv\n",
      "[INFO] 5 surrogate data generated from P07_TS_3.csv\n",
      "[INFO] 6 surrogate data generated from P08_TS_1.csv\n",
      "[INFO] 6 surrogate data generated from P08_TS_2.csv\n",
      "[INFO] 6 surrogate data generated from P08_TS_3.csv\n",
      "[INFO] 5 surrogate data generated from P09_TS_1.csv\n",
      "[INFO] 5 surrogate data generated from P09_TS_2.csv\n",
      "[INFO] 5 surrogate data generated from P09_TS_3.csv\n",
      "[INFO] 6 surrogate data generated from P10_TS_1.csv\n",
      "[INFO] 6 surrogate data generated from P10_TS_2.csv\n",
      "[INFO] 6 surrogate data generated from P10_TS_3.csv\n",
      "[INFO] 6 surrogate data generated from P12_TS_1.csv\n",
      "[INFO] 6 surrogate data generated from P12_TS_2.csv\n",
      "[INFO] 6 surrogate data generated from P12_TS_3.csv\n",
      "[INFO] 6 surrogate data generated from P14_TS_1.csv\n",
      "[INFO] 6 surrogate data generated from P14_TS_2.csv\n",
      "[INFO] 63 surrogate data generated from P15_TS_1.csv\n",
      "[INFO] 63 surrogate data generated from P15_TS_2.csv\n",
      "[INFO] 63 surrogate data generated from P15_TS_3.csv\n",
      "[INFO] 5 surrogate data generated from P16_TS_1.csv\n",
      "[INFO] 5 surrogate data generated from P16_TS_2.csv\n",
      "[INFO] 5 surrogate data generated from P16_TS_3.csv\n",
      "[INFO] 6 surrogate data generated from P17_TS_1.csv\n",
      "[INFO] 6 surrogate data generated from P17_TS_2.csv\n",
      "[INFO] 6 surrogate data generated from P17_TS_3.csv\n",
      "[INFO] 5 surrogate data generated from P18_TS_1.csv\n",
      "[INFO] 5 surrogate data generated from P18_TS_2.csv\n",
      "[INFO] 5 surrogate data generated from P18_TS_3.csv\n",
      "[INFO] 5 surrogate data generated from P19_TS_1.csv\n",
      "[INFO] 5 surrogate data generated from P19_TS_2.csv\n",
      "[INFO] 5 surrogate data generated from P19_TS_3.csv\n",
      "[INFO] 5 surrogate data generated from P20_TS_1.csv\n",
      "[INFO] 5 surrogate data generated from P20_TS_2.csv\n",
      "[INFO] 5 surrogate data generated from P20_TS_3.csv\n",
      "[INFO] 6 surrogate data generated from P21_TS_1.csv\n",
      "[INFO] 6 surrogate data generated from P21_TS_2.csv\n",
      "[INFO] 6 surrogate data generated from P21_TS_3.csv\n",
      "[INFO] 5 surrogate data generated from P22_TS_1.csv\n",
      "[INFO] 5 surrogate data generated from P22_TS_2.csv\n",
      "[INFO] 5 surrogate data generated from P23_TS_1.csv\n",
      "[INFO] 5 surrogate data generated from P23_TS_2.csv\n",
      "[INFO] 5 surrogate data generated from P23_TS_3.csv\n",
      "[INFO] 32 surrogate data generated from P24_TS_1.csv\n",
      "[INFO] 32 surrogate data generated from P24_TS_2.csv\n",
      "[INFO] 32 surrogate data generated from P24_TS_3.csv\n",
      "[INFO] 5 surrogate data generated from P26_TS_1.csv\n",
      "[INFO] 5 surrogate data generated from P26_TS_2.csv\n",
      "[INFO] 5 surrogate data generated from P26_TS_3.csv\n",
      "[INFO] 32 surrogate data generated from P27_TS_1.csv\n",
      "[INFO] 32 surrogate data generated from P27_TS_2.csv\n",
      "[INFO] 32 surrogate data generated from P27_TS_3.csv\n",
      "[INFO] 5 surrogate data generated from P28_TS_1.csv\n",
      "[INFO] 5 surrogate data generated from P28_TS_2.csv\n",
      "[INFO] 5 surrogate data generated from P28_TS_3.csv\n",
      "[INFO] 5 surrogate data generated from P30_TS_1.csv\n",
      "[INFO] 5 surrogate data generated from P30_TS_2.csv\n",
      "[INFO] 5 surrogate data generated from P30_TS_3.csv\n",
      "[INFO] 6 surrogate data generated from P32_TS_1.csv\n",
      "[INFO] 6 surrogate data generated from P32_TS_2.csv\n",
      "[INFO] 6 surrogate data generated from P32_TS_3.csv\n",
      "[INFO] 5 surrogate data generated from P33_TS_1.csv\n",
      "[INFO] 5 surrogate data generated from P33_TS_2.csv\n",
      "[INFO] 5 surrogate data generated from P33_TS_3.csv\n",
      "[INFO] 5 surrogate data generated from P34_TS_1.csv\n",
      "[INFO] 5 surrogate data generated from P34_TS_2.csv\n",
      "[INFO] 5 surrogate data generated from P34_TS_3.csv\n",
      "[INFO] Directory D:\\github\\time-series-dataset-augmentation\\wrkdir is created successfully!\n",
      "\n",
      "Saving as 'pkl' file\n",
      "Save complete!\n",
      "\n"
     ]
    },
    {
     "name": "stderr",
     "output_type": "stream",
     "text": [
      "c:\\Users\\ASUS\\anaconda3\\envs\\tsgen\\lib\\site-packages\\numpy\\lib\\function_base.py:5030: VisibleDeprecationWarning: Creating an ndarray from ragged nested sequences (which is a list-or-tuple of lists-or-tuples-or ndarrays with different lengths or shapes) is deprecated. If you meant to do this, you must specify 'dtype=object' when creating the ndarray.\n",
      "  arr = asarray(arr)\n"
     ]
    }
   ],
   "source": [
    "# get the path to parent dir\n",
    "import sys, os\n",
    "parent_dir = os.path.abspath(os.path.join(os.getcwd(), os.pardir))\n",
    "sys.path.insert(0,parent_dir)\n",
    "\n",
    "from allSurr1D import allSurr1D\n",
    "\n",
    "data_dir = '../data/ARAT'\n",
    "score_file = 'score.txt'\n",
    "save_as = \"pkl\"\n",
    "fold_no=5\n",
    "num_comp = 3\n",
    "\n",
    "# nSur(ratio) depends on the amount of sample in each class (smaller the sample, bigger the nSur value).\n",
    "# to balance the data distribution.\n",
    "'<< set \"nSur=None\" to auto set >>'\n",
    "# The amount of data generated in each dataset depends on the \n",
    "# \"no. of data in the category with highest amount of dataset * fold\"\n",
    "nSur = None\n",
    "'<< or set it manually... >>'\n",
    "# e.g\n",
    "# nSur = {'cannot_perform': 12, 'partially_performed': 6, 'performed_abnormally': 1, 'performs_normally': 1}\n",
    "# nSur = {'0': 12, '1': 6, '2': 1, '3': 1}\n",
    "\n",
    "allSurr1D(data_dir=data_dir, score_file=score_file, save_as=save_as, \n",
    "                nSur=nSur, fold_no=fold_no, num_comp=num_comp, \n",
    "                remove_class=[\"cannot_perform\"])"
   ]
  },
  {
   "cell_type": "markdown",
   "metadata": {},
   "source": [
    "### Clear Working Directory"
   ]
  },
  {
   "cell_type": "code",
   "execution_count": null,
   "metadata": {},
   "outputs": [],
   "source": [
    "print('[WARNING] This will clear the working directory. Unsaved files will be deleted!')\n",
    "confirm = input(\"Type 'YES' to confirm: \")\n",
    "\n",
    "if confirm.lower() == 'yes':\n",
    "    import shutil\n",
    "    shutil.rmtree(r'../wrkdir') # delete directory including its content\n",
    "    print('[INFO] Working directory is deleted successfully.')\n",
    "else:\n",
    "    print('[INFO] Task is Cancelled')"
   ]
  },
  {
   "cell_type": "markdown",
   "metadata": {},
   "source": [
    "### Save and Zip Surrogate Data"
   ]
  },
  {
   "cell_type": "code",
   "execution_count": null,
   "metadata": {},
   "outputs": [],
   "source": [
    "import shutil, os\n",
    "\n",
    "zip_ok = True # Set to True to zip the files, and False otherwise\n",
    "save_folder = '../saved_surr' # Save location (can be absolute or relative)\n",
    "\n",
    "# ==============================================================\n",
    "\n",
    "def save_and_zip(save_folder, zip_ok):\n",
    "    ''' Save and zip the generated surr data\n",
    "    \n",
    "    Input:  save_folder - location on where to save the files\n",
    "                 zip_ok - Set to True if you want to zip the files\n",
    "\n",
    "    Returns\n",
    "    -------\n",
    "    None\n",
    "    '''\n",
    "\n",
    "    f_name = input(\"Enter the name for the folder: \")\n",
    "    if f_name == '':\n",
    "        raise ValueError(\"Name input is empty!\") # to cancel if you changed your mind ?:|\n",
    "    else:\n",
    "        os.makedirs(save_folder, exist_ok=True) # create save_folder dir\n",
    "        archive_to = os.path.abspath(os.path.join(save_folder, f_name))\n",
    "        \n",
    "    if zip_ok:\n",
    "        shutil.make_archive(archive_to, 'zip', '../wrkdir')\n",
    "        print(f\"[INFO] Successfully zipped to {archive_to}\")\n",
    "    else:\n",
    "        shutil.copytree('../wrkdir', archive_to)\n",
    "        print(f\"[INFO] Successfully saved to {archive_to}\")\n",
    "\n",
    "save_and_zip(save_folder, zip_ok)"
   ]
  }
 ],
 "metadata": {
  "kernelspec": {
   "display_name": "Python 3.8.13 ('tsgen')",
   "language": "python",
   "name": "python3"
  },
  "language_info": {
   "codemirror_mode": {
    "name": "ipython",
    "version": 3
   },
   "file_extension": ".py",
   "mimetype": "text/x-python",
   "name": "python",
   "nbconvert_exporter": "python",
   "pygments_lexer": "ipython3",
   "version": "3.9.15"
  },
  "orig_nbformat": 4,
  "vscode": {
   "interpreter": {
    "hash": "433eeca8b06d875aeedd47b90bfffd56ad86009625f00af58ff06f7d8cf57d5c"
   }
  }
 },
 "nbformat": 4,
 "nbformat_minor": 2
}
