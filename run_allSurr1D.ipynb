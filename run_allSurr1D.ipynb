{
 "cells": [
  {
   "cell_type": "markdown",
   "metadata": {
    "tags": [
     "parameters"
    ]
   },
   "source": [
    "#### Run allSurr1D\n",
    "<font size = \"3\">\n",
    "\n",
    "**Input:**\n",
    "| <div style=\"width:150px\">Argument</div> | Description                                                                        |\n",
    "| --------------------------------------- | ---------------------------------------------------------------------------------- |\n",
    "| data_dir                        | Data directory                                                                             |\n",
    "| score_file                      | Score file containing which class the data belong to                                       |\n",
    "| save_as                         | Save output as csv or pickle                                                               |\n",
    "| nSur                            | Proportion of surrogate data to be generated (to balance data distribution between classes)|\n",
    "| fold_no                         | How many times the sample data will be augmented (x-fold)                                  |\n",
    "\n",
    "**Output:**\n",
    "| <div style=\"width:150px\">File</div> | Description                                                                |\n",
    "| ----------------------------------- | -------------------------------------------------------------------------- |\n",
    "| csv                                 | CSVs of synthesized data in respective directory according to Class        |\n",
    "| pickle                              | Pickle file containing all synthesized surrogate data                      |\n",
    "\n",
    "</font>\n",
    "\n",
    "<font size = \"3\">p.s: Generated surrogate files are temporarily stored in wrkdir folder. To save the files, run the __\"Save and Zip Surrogate Data\"__ cell below</font>"
   ]
  },
  {
   "cell_type": "code",
   "execution_count": null,
   "metadata": {},
   "outputs": [],
   "source": [
    "from allSurr1D import allSurr1D\n",
    "\n",
    "data_dir = 'data'\n",
    "score_file = 'ARScore.txt'\n",
    "save_as = \"csv\"\n",
    "nSur=[12, 6, 1, 1]  # depends on the amount of sample in each class (more sample, leseer nSur value)\n",
    "fold_no=30\n",
    "\n",
    "allSurr1D(data_dir = data_dir, score_file = score_file, save_as = save_as, nSur = nSur, fold_no = fold_no)"
   ]
  },
  {
   "cell_type": "markdown",
   "metadata": {},
   "source": [
    "#### Clear Working Directory"
   ]
  },
  {
   "cell_type": "code",
   "execution_count": null,
   "metadata": {},
   "outputs": [],
   "source": [
    "print('[WARNING] This will clear the working directory. Unsaved files will be deleted!')\n",
    "confirm = input(\"Type 'YES' to confirm: \")\n",
    "\n",
    "if confirm.lower() == 'yes':\n",
    "    import shutil\n",
    "    shutil.rmtree(r'wrkdir') # delete directory including its content\n",
    "    print('[INFO] Working directory is deleted successfully!')"
   ]
  },
  {
   "cell_type": "markdown",
   "metadata": {},
   "source": [
    "#### Save and Zip Surrogate Data"
   ]
  },
  {
   "cell_type": "code",
   "execution_count": null,
   "metadata": {},
   "outputs": [],
   "source": [
    "zip_ok = False # Set to True to zip the files and False otherwise"
   ]
  }
 ],
 "metadata": {
  "kernelspec": {
   "display_name": "Python 3.8.13 ('tsgen')",
   "language": "python",
   "name": "python3"
  },
  "language_info": {
   "codemirror_mode": {
    "name": "ipython",
    "version": 3
   },
   "file_extension": ".py",
   "mimetype": "text/x-python",
   "name": "python",
   "nbconvert_exporter": "python",
   "pygments_lexer": "ipython3",
   "version": "3.8.13"
  },
  "orig_nbformat": 4,
  "vscode": {
   "interpreter": {
    "hash": "433eeca8b06d875aeedd47b90bfffd56ad86009625f00af58ff06f7d8cf57d5c"
   }
  }
 },
 "nbformat": 4,
 "nbformat_minor": 2
}
