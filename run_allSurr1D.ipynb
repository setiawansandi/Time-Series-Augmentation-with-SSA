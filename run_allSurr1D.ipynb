{
 "cells": [
  {
   "cell_type": "markdown",
   "metadata": {
    "tags": [
     "parameters"
    ]
   },
   "source": [
    "#### Run allSurr1D\n",
    "<font size = \"3\">\n",
    "\n",
    "**Input:**\n",
    "| <div style=\"width:150px\">Argument</div> | Description                                                                        |\n",
    "| --------------------------------------- | ---------------------------------------------------------------------------------- |\n",
    "| data_dir                        | Data directory                                                                             |\n",
    "| score_file                      | Score file containing which class the data belong to                                       |\n",
    "| save_as                         | Save output as csv or pickle                                                               |\n",
    "| nSur                            | Proportion of surrogate data to be generated (to balance data distribution between classes)|\n",
    "| fold_no                         | How many times the sample data will be augmented (x-fold)                                  |\n",
    "\n",
    "**Output:**\n",
    "| <div style=\"width:150px\">File</div> | Description                                                                |\n",
    "| ----------------------------------- | -------------------------------------------------------------------------- |\n",
    "| csv                                 | CSVs of synthesized data in respective directory according to Class        |\n",
    "| pickle                              | Pickle file containing all synthesized surrogate data                      |\n",
    "\n",
    "</font>\n",
    "\n",
    "<font size = \"3\">p.s: Generated surrogate files are temporarily stored in wrkdir folder. To save the files, run __\"Save and Zip Surrogate Data\"__ cell below.</font>"
   ]
  },
  {
   "cell_type": "code",
   "execution_count": 1,
   "metadata": {},
   "outputs": [
    {
     "name": "stdout",
     "output_type": "stream",
     "text": [
      "[INFO] Directory D:\\github\\time-series-dataset-augmentation\\wrkdir is created successfully!\n",
      "[INFO] Directory D:\\github\\time-series-dataset-augmentation\\wrkdir\\3 is created successfully!\n",
      "[INFO] 30 surrogate data generated from P01_TS_1.csv\n",
      "[INFO] 30 surrogate data generated from P01_TS_2.csv\n",
      "[INFO] 30 surrogate data generated from P02_TS_1.csv\n",
      "[INFO] 30 surrogate data generated from P02_TS_2.csv\n",
      "[INFO] 30 surrogate data generated from P02_TS_3.csv\n",
      "[INFO] 30 surrogate data generated from P04_TS_1.csv\n",
      "[INFO] 30 surrogate data generated from P04_TS_2.csv\n",
      "[INFO] 30 surrogate data generated from P04_TS_3.csv\n",
      "[INFO] 30 surrogate data generated from P05_TS_1.csv\n",
      "[INFO] 30 surrogate data generated from P05_TS_2.csv\n",
      "[INFO] 30 surrogate data generated from P05_TS_3.csv\n",
      "[INFO] Directory D:\\github\\time-series-dataset-augmentation\\wrkdir\\2 is created successfully!\n",
      "[INFO] 30 surrogate data generated from P07_TS_1.csv\n",
      "[INFO] 30 surrogate data generated from P07_TS_2.csv\n",
      "[INFO] 30 surrogate data generated from P07_TS_3.csv\n",
      "[INFO] 30 surrogate data generated from P08_TS_1.csv\n",
      "[INFO] 30 surrogate data generated from P08_TS_2.csv\n",
      "[INFO] 30 surrogate data generated from P08_TS_3.csv\n",
      "[INFO] 30 surrogate data generated from P09_TS_1.csv\n",
      "[INFO] 30 surrogate data generated from P09_TS_2.csv\n",
      "[INFO] 30 surrogate data generated from P09_TS_3.csv\n",
      "[INFO] 30 surrogate data generated from P10_TS_1.csv\n",
      "[INFO] 30 surrogate data generated from P10_TS_2.csv\n",
      "[INFO] 30 surrogate data generated from P10_TS_3.csv\n",
      "[INFO] 30 surrogate data generated from P12_TS_1.csv\n",
      "[INFO] 30 surrogate data generated from P12_TS_2.csv\n",
      "[INFO] 30 surrogate data generated from P12_TS_3.csv\n",
      "[INFO] 30 surrogate data generated from P14_TS_1.csv\n",
      "[INFO] 30 surrogate data generated from P14_TS_2.csv\n",
      "[INFO] Directory D:\\github\\time-series-dataset-augmentation\\wrkdir\\0 is created successfully!\n",
      "[INFO] 360 surrogate data generated from P15_TS_1.csv\n",
      "[INFO] 360 surrogate data generated from P15_TS_2.csv\n",
      "[INFO] 360 surrogate data generated from P15_TS_3.csv\n",
      "[INFO] 30 surrogate data generated from P16_TS_1.csv\n",
      "[INFO] 30 surrogate data generated from P16_TS_2.csv\n",
      "[INFO] 30 surrogate data generated from P16_TS_3.csv\n",
      "[INFO] 30 surrogate data generated from P17_TS_1.csv\n",
      "[INFO] 30 surrogate data generated from P17_TS_2.csv\n",
      "[INFO] 30 surrogate data generated from P17_TS_3.csv\n",
      "[INFO] 30 surrogate data generated from P18_TS_1.csv\n",
      "[INFO] 30 surrogate data generated from P18_TS_2.csv\n",
      "[INFO] 30 surrogate data generated from P18_TS_3.csv\n",
      "[INFO] 30 surrogate data generated from P19_TS_1.csv\n",
      "[INFO] 30 surrogate data generated from P19_TS_2.csv\n",
      "[INFO] 30 surrogate data generated from P19_TS_3.csv\n",
      "[INFO] 30 surrogate data generated from P20_TS_1.csv\n",
      "[INFO] 30 surrogate data generated from P20_TS_2.csv\n",
      "[INFO] 30 surrogate data generated from P20_TS_3.csv\n",
      "[INFO] 30 surrogate data generated from P21_TS_1.csv\n",
      "[INFO] 30 surrogate data generated from P21_TS_2.csv\n",
      "[INFO] 30 surrogate data generated from P21_TS_3.csv\n",
      "[INFO] 30 surrogate data generated from P22_TS_1.csv\n",
      "[INFO] 30 surrogate data generated from P22_TS_2.csv\n",
      "[INFO] 30 surrogate data generated from P23_TS_1.csv\n",
      "[INFO] 30 surrogate data generated from P23_TS_2.csv\n",
      "[INFO] 30 surrogate data generated from P23_TS_3.csv\n",
      "[INFO] Directory D:\\github\\time-series-dataset-augmentation\\wrkdir\\1 is created successfully!\n",
      "[INFO] 180 surrogate data generated from P24_TS_1.csv\n",
      "[INFO] 180 surrogate data generated from P24_TS_2.csv\n",
      "[INFO] 180 surrogate data generated from P24_TS_3.csv\n",
      "[INFO] 30 surrogate data generated from P26_TS_1.csv\n",
      "[INFO] 30 surrogate data generated from P26_TS_2.csv\n",
      "[INFO] 30 surrogate data generated from P26_TS_3.csv\n",
      "[INFO] 180 surrogate data generated from P27_TS_1.csv\n",
      "[INFO] 180 surrogate data generated from P27_TS_2.csv\n",
      "[INFO] 180 surrogate data generated from P27_TS_3.csv\n",
      "[INFO] 30 surrogate data generated from P28_TS_1.csv\n",
      "[INFO] 30 surrogate data generated from P28_TS_2.csv\n",
      "[INFO] 30 surrogate data generated from P28_TS_3.csv\n",
      "[INFO] 30 surrogate data generated from P30_TS_1.csv\n",
      "[INFO] 30 surrogate data generated from P30_TS_2.csv\n",
      "[INFO] 30 surrogate data generated from P30_TS_3.csv\n",
      "[INFO] 30 surrogate data generated from P32_TS_1.csv\n",
      "[INFO] 30 surrogate data generated from P32_TS_2.csv\n",
      "[INFO] 30 surrogate data generated from P32_TS_3.csv\n",
      "[INFO] 30 surrogate data generated from P33_TS_1.csv\n",
      "[INFO] 30 surrogate data generated from P33_TS_2.csv\n",
      "[INFO] 30 surrogate data generated from P33_TS_3.csv\n",
      "[INFO] 30 surrogate data generated from P34_TS_1.csv\n",
      "[INFO] 30 surrogate data generated from P34_TS_2.csv\n",
      "[INFO] 30 surrogate data generated from P34_TS_3.csv\n"
     ]
    }
   ],
   "source": [
    "from allSurr1D import allSurr1D\n",
    "\n",
    "data_dir = 'data'\n",
    "score_file = 'ARScore.txt'\n",
    "save_as = \"csv\"\n",
    "nSur=[12, 6, 1, 1]  # depends on the amount of sample in each class (more sample, leseer nSur value)\n",
    "fold_no=30\n",
    "\n",
    "allSurr1D(data_dir=data_dir, score_file=score_file, save_as=save_as, nSur=nSur, fold_no=fold_no)"
   ]
  },
  {
   "cell_type": "markdown",
   "metadata": {},
   "source": [
    "#### Clear Working Directory"
   ]
  },
  {
   "cell_type": "code",
   "execution_count": 2,
   "metadata": {},
   "outputs": [
    {
     "name": "stdout",
     "output_type": "stream",
     "text": [
      "[WARNING] This will clear the working directory. Unsaved files will be deleted!\n",
      "[INFO] Working directory is deleted successfully!\n"
     ]
    }
   ],
   "source": [
    "print('[WARNING] This will clear the working directory. Unsaved files will be deleted!')\n",
    "confirm = input(\"Type 'YES' to confirm: \")\n",
    "\n",
    "if confirm.lower() == 'yes':\n",
    "    import shutil\n",
    "    shutil.rmtree(r'wrkdir') # delete directory including its content\n",
    "    print('[INFO] Working directory is deleted successfully.')"
   ]
  },
  {
   "cell_type": "markdown",
   "metadata": {},
   "source": [
    "#### Save and Zip Surrogate Data"
   ]
  },
  {
   "cell_type": "code",
   "execution_count": 17,
   "metadata": {},
   "outputs": [],
   "source": [
    "import shutil, os\n",
    "\n",
    "zip_ok = False # Set to True to zip the files, and False otherwise\n",
    "save_folder = 'saved_surr' # Save location (can be absolute or relative)\n",
    "\n",
    "# ==============================================================\n",
    "\n",
    "def save_and_zip(save_folder, zip_ok):\n",
    "    ''' Save and zip the generated surr data\n",
    "    \n",
    "    Input:  save_folder - location on where to save the files\n",
    "                 zip_ok - Set to True if you want to zip the files\n",
    "\n",
    "    Returns\n",
    "    -------\n",
    "    None\n",
    "    '''\n",
    "\n",
    "    f_name = input(\"Enter the name for the folder: \")\n",
    "    if f_name == '':\n",
    "        raise ValueError(\"Name input is empty!\") # to cancel if you changed your mind ?:|\n",
    "    else:\n",
    "        os.makedirs(save_folder, exist_ok=True) # create save_folder dir\n",
    "        archive_to = os.path.join(save_folder, f_name)\n",
    "        \n",
    "    if zip_ok:\n",
    "        print(os.path.join(save_folder, f_name))\n",
    "        shutil.make_archive(archive_to, 'zip', 'wrkdir')\n",
    "    else:\n",
    "        shutil.copytree('wrkdir', archive_to)\n",
    "\n",
    "save_and_zip(save_folder, zip_ok)"
   ]
  }
 ],
 "metadata": {
  "kernelspec": {
   "display_name": "Python 3.8.13 ('tsgen')",
   "language": "python",
   "name": "python3"
  },
  "language_info": {
   "codemirror_mode": {
    "name": "ipython",
    "version": 3
   },
   "file_extension": ".py",
   "mimetype": "text/x-python",
   "name": "python",
   "nbconvert_exporter": "python",
   "pygments_lexer": "ipython3",
   "version": "3.9.15"
  },
  "orig_nbformat": 4,
  "vscode": {
   "interpreter": {
    "hash": "433eeca8b06d875aeedd47b90bfffd56ad86009625f00af58ff06f7d8cf57d5c"
   }
  }
 },
 "nbformat": 4,
 "nbformat_minor": 2
}
